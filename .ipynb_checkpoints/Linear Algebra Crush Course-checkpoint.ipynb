{
 "cells": [
  {
   "cell_type": "markdown",
   "id": "536945d8-a247-40fd-9774-9b6b472424d3",
   "metadata": {},
   "source": [
    "# Part II: Foundations "
   ]
  },
  {
   "cell_type": "code",
   "execution_count": 1,
   "id": "1ef06d95-9dd0-44a0-82e0-7021d85e8e7d",
   "metadata": {},
   "outputs": [],
   "source": [
    "import numpy as np "
   ]
  },
  {
   "cell_type": "code",
   "execution_count": 11,
   "id": "1bc561e4-9d3a-4fdf-9571-a87c3d4fe39b",
   "metadata": {},
   "outputs": [
    {
     "data": {
      "text/plain": [
       "array([1, 2, 3])"
      ]
     },
     "execution_count": 11,
     "metadata": {},
     "output_type": "execute_result"
    }
   ],
   "source": [
    "l = [1, 2, 3]\n",
    "a = np.array(l)\n",
    "a"
   ]
  },
  {
   "cell_type": "code",
   "execution_count": 6,
   "id": "d753194b-e2f0-411b-8c7d-e9711b138b03",
   "metadata": {},
   "outputs": [
    {
     "name": "stdout",
     "output_type": "stream",
     "text": [
      "(3,)\n"
     ]
    }
   ],
   "source": [
    "print(a.shape)"
   ]
  },
  {
   "cell_type": "code",
   "execution_count": 7,
   "id": "66fbcf3a-4561-4b0a-86e1-4075e2470aeb",
   "metadata": {},
   "outputs": [
    {
     "data": {
      "text/plain": [
       "dtype('int32')"
      ]
     },
     "execution_count": 7,
     "metadata": {},
     "output_type": "execute_result"
    }
   ],
   "source": [
    "a.dtype"
   ]
  },
  {
   "cell_type": "code",
   "execution_count": 25,
   "id": "747481a0-4002-47fa-90ac-b7c18ac537e7",
   "metadata": {},
   "outputs": [
    {
     "data": {
      "text/plain": [
       "array([[1795663408,        630,          0],\n",
       "       [   5242880,        948,          0],\n",
       "       [       768,        630,    5111881]])"
      ]
     },
     "execution_count": 25,
     "metadata": {},
     "output_type": "execute_result"
    }
   ],
   "source": [
    "a = np.empty([3,3], dtype = int)\n",
    "a"
   ]
  },
  {
   "cell_type": "code",
   "execution_count": 13,
   "id": "1b126cc5-aea7-4d8c-8d1d-3d168f008303",
   "metadata": {},
   "outputs": [
    {
     "data": {
      "text/plain": [
       "array([[0., 0., 0., 0., 0.],\n",
       "       [0., 0., 0., 0., 0.],\n",
       "       [0., 0., 0., 0., 0.]])"
      ]
     },
     "execution_count": 13,
     "metadata": {},
     "output_type": "execute_result"
    }
   ],
   "source": [
    "a = np.zeros((3,5))\n",
    "a"
   ]
  },
  {
   "cell_type": "code",
   "execution_count": 16,
   "id": "a2bad186-fc7a-4091-8cf1-ac8c31299f56",
   "metadata": {},
   "outputs": [
    {
     "data": {
      "text/plain": [
       "array([1., 1., 1., 1., 1.])"
      ]
     },
     "execution_count": 16,
     "metadata": {},
     "output_type": "execute_result"
    }
   ],
   "source": [
    "a = np.ones((5))\n",
    "a"
   ]
  },
  {
   "cell_type": "code",
   "execution_count": 17,
   "id": "0480482b-fdd7-4b47-a7e2-8adc23da3b7d",
   "metadata": {},
   "outputs": [
    {
     "name": "stdout",
     "output_type": "stream",
     "text": [
      "[1 2 3]\n",
      "[4 5 6]\n"
     ]
    }
   ],
   "source": [
    "A1= np.array((1,2,3))\n",
    "print(A1)\n",
    "A2 = np.array((4,5,6))\n",
    "print(A2)"
   ]
  },
  {
   "cell_type": "code",
   "execution_count": 19,
   "id": "5452646f-119a-48c7-9a5b-8e3988e09dd3",
   "metadata": {},
   "outputs": [
    {
     "data": {
      "text/plain": [
       "array([[1, 2, 3],\n",
       "       [4, 5, 6]])"
      ]
     },
     "execution_count": 19,
     "metadata": {},
     "output_type": "execute_result"
    }
   ],
   "source": [
    "a3 = np.vstack((A1,A2))\n",
    "a3"
   ]
  },
  {
   "cell_type": "code",
   "execution_count": 21,
   "id": "b56aa9c3-229b-47f6-ad82-7cd550cb409b",
   "metadata": {},
   "outputs": [
    {
     "data": {
      "text/plain": [
       "array([1, 2, 3, 4, 5, 6])"
      ]
     },
     "execution_count": 21,
     "metadata": {},
     "output_type": "execute_result"
    }
   ],
   "source": [
    "a3 = np.hstack((A1, A2))\n",
    "a3"
   ]
  },
  {
   "cell_type": "markdown",
   "id": "80a52e3e-2eef-4b48-a35f-905b1662e706",
   "metadata": {},
   "source": [
    "## Index, Slice and Reshape NumPy arrays"
   ]
  },
  {
   "cell_type": "code",
   "execution_count": 2,
   "id": "4d034a02-0b4b-4515-bca8-66115ff38c47",
   "metadata": {},
   "outputs": [
    {
     "data": {
      "text/plain": [
       "[11, 22, 33, 44, 55]"
      ]
     },
     "execution_count": 2,
     "metadata": {},
     "output_type": "execute_result"
    }
   ],
   "source": [
    "data = [11, 22, 33, 44, 55]\n",
    "data"
   ]
  },
  {
   "cell_type": "code",
   "execution_count": 6,
   "id": "5c3910a1-b8d5-4e6e-bbac-2c5fcca1e48f",
   "metadata": {},
   "outputs": [
    {
     "data": {
      "text/plain": [
       "list"
      ]
     },
     "execution_count": 6,
     "metadata": {},
     "output_type": "execute_result"
    }
   ],
   "source": [
    "type(data)"
   ]
  },
  {
   "cell_type": "code",
   "execution_count": 7,
   "id": "5dc1706f-7b1b-415b-b259-0914391a83a2",
   "metadata": {},
   "outputs": [
    {
     "data": {
      "text/plain": [
       "array([11, 22, 33, 44, 55])"
      ]
     },
     "execution_count": 7,
     "metadata": {},
     "output_type": "execute_result"
    }
   ],
   "source": [
    "data = np.array(data)\n",
    "data"
   ]
  },
  {
   "cell_type": "code",
   "execution_count": 8,
   "id": "ebc59f7d-34b9-4e30-9e9d-382518b6cd13",
   "metadata": {},
   "outputs": [
    {
     "data": {
      "text/plain": [
       "numpy.ndarray"
      ]
     },
     "execution_count": 8,
     "metadata": {},
     "output_type": "execute_result"
    }
   ],
   "source": [
    "type(data)"
   ]
  },
  {
   "cell_type": "code",
   "execution_count": 9,
   "id": "31021af8-0bf7-4709-b787-2b34866c7056",
   "metadata": {},
   "outputs": [
    {
     "data": {
      "text/plain": [
       "dtype('int32')"
      ]
     },
     "execution_count": 9,
     "metadata": {},
     "output_type": "execute_result"
    }
   ],
   "source": [
    "data.dtype"
   ]
  },
  {
   "cell_type": "code",
   "execution_count": 10,
   "id": "12732737-2c3a-4265-aa9e-a68cb37c674c",
   "metadata": {},
   "outputs": [
    {
     "data": {
      "text/plain": [
       "[[11, 22], [33, 44], [55, 66]]"
      ]
     },
     "execution_count": 10,
     "metadata": {},
     "output_type": "execute_result"
    }
   ],
   "source": [
    "data = [[11, 22],\n",
    "       [33, 44],\n",
    "       [55, 66]]\n",
    "data"
   ]
  },
  {
   "cell_type": "code",
   "execution_count": 11,
   "id": "7e044c68-b432-484c-bc44-903a1e9a1d50",
   "metadata": {},
   "outputs": [
    {
     "data": {
      "text/plain": [
       "list"
      ]
     },
     "execution_count": 11,
     "metadata": {},
     "output_type": "execute_result"
    }
   ],
   "source": [
    "type(data)"
   ]
  },
  {
   "cell_type": "code",
   "execution_count": 12,
   "id": "1f1de7c0-05c1-4055-b008-e33802e24f46",
   "metadata": {},
   "outputs": [],
   "source": [
    "data = np.array(data)"
   ]
  },
  {
   "cell_type": "code",
   "execution_count": 13,
   "id": "f6daa96b-e036-4238-b57c-7a6641f60d1f",
   "metadata": {},
   "outputs": [
    {
     "data": {
      "text/plain": [
       "array([[11, 22],\n",
       "       [33, 44],\n",
       "       [55, 66]])"
      ]
     },
     "execution_count": 13,
     "metadata": {},
     "output_type": "execute_result"
    }
   ],
   "source": [
    "data"
   ]
  },
  {
   "cell_type": "code",
   "execution_count": 14,
   "id": "03e11b1e-492a-48c4-ba76-ba36974c1595",
   "metadata": {},
   "outputs": [
    {
     "data": {
      "text/plain": [
       "numpy.ndarray"
      ]
     },
     "execution_count": 14,
     "metadata": {},
     "output_type": "execute_result"
    }
   ],
   "source": [
    "type(data)"
   ]
  },
  {
   "cell_type": "code",
   "execution_count": 15,
   "id": "5f048fcb-5ef1-4968-8776-8b833bd3b5ec",
   "metadata": {},
   "outputs": [
    {
     "data": {
      "text/plain": [
       "dtype('int32')"
      ]
     },
     "execution_count": 15,
     "metadata": {},
     "output_type": "execute_result"
    }
   ],
   "source": [
    "data.dtype "
   ]
  },
  {
   "cell_type": "code",
   "execution_count": 16,
   "id": "3bdc4b36-0723-4c1b-a1d8-0bd5a5096252",
   "metadata": {},
   "outputs": [
    {
     "data": {
      "text/plain": [
       "(3, 2)"
      ]
     },
     "execution_count": 16,
     "metadata": {},
     "output_type": "execute_result"
    }
   ],
   "source": [
    "data.shape"
   ]
  },
  {
   "cell_type": "code",
   "execution_count": 17,
   "id": "484b5602-5eca-4e59-912f-93fa1d5f45a8",
   "metadata": {},
   "outputs": [
    {
     "data": {
      "text/plain": [
       "6"
      ]
     },
     "execution_count": 17,
     "metadata": {},
     "output_type": "execute_result"
    }
   ],
   "source": [
    "data.size"
   ]
  },
  {
   "cell_type": "code",
   "execution_count": 18,
   "id": "f38b6d86-af8f-4510-8d7c-b560d7062f99",
   "metadata": {},
   "outputs": [
    {
     "data": {
      "text/plain": [
       "array([11, 22, 33, 44, 55])"
      ]
     },
     "execution_count": 18,
     "metadata": {},
     "output_type": "execute_result"
    }
   ],
   "source": [
    "data = np.array([11, 22, 33, 44, 55])\n",
    "data"
   ]
  },
  {
   "cell_type": "code",
   "execution_count": 19,
   "id": "a157e802-b96a-49f9-9bd9-bd8c7c807ee6",
   "metadata": {},
   "outputs": [
    {
     "data": {
      "text/plain": [
       "11"
      ]
     },
     "execution_count": 19,
     "metadata": {},
     "output_type": "execute_result"
    }
   ],
   "source": [
    "data[0]"
   ]
  },
  {
   "cell_type": "code",
   "execution_count": 21,
   "id": "9adaf72d-5e72-4b00-a4d3-375235ddfb18",
   "metadata": {},
   "outputs": [
    {
     "data": {
      "text/plain": [
       "55"
      ]
     },
     "execution_count": 21,
     "metadata": {},
     "output_type": "execute_result"
    }
   ],
   "source": [
    "data[4]"
   ]
  },
  {
   "cell_type": "code",
   "execution_count": 22,
   "id": "2246feb0-773a-404d-b95b-43c2bd37ee20",
   "metadata": {},
   "outputs": [
    {
     "ename": "IndexError",
     "evalue": "index 5 is out of bounds for axis 0 with size 5",
     "output_type": "error",
     "traceback": [
      "\u001b[1;31m---------------------------------------------------------------------------\u001b[0m",
      "\u001b[1;31mIndexError\u001b[0m                                Traceback (most recent call last)",
      "\u001b[1;32m<ipython-input-22-d8911f6d5e4a>\u001b[0m in \u001b[0;36m<module>\u001b[1;34m\u001b[0m\n\u001b[1;32m----> 1\u001b[1;33m \u001b[0mdata\u001b[0m\u001b[1;33m[\u001b[0m\u001b[1;36m5\u001b[0m\u001b[1;33m]\u001b[0m\u001b[1;33m\u001b[0m\u001b[1;33m\u001b[0m\u001b[0m\n\u001b[0m",
      "\u001b[1;31mIndexError\u001b[0m: index 5 is out of bounds for axis 0 with size 5"
     ]
    }
   ],
   "source": [
    "data[5]"
   ]
  },
  {
   "cell_type": "code",
   "execution_count": 23,
   "id": "f0b21d63-9174-4bb0-8fba-b420b1c034c2",
   "metadata": {},
   "outputs": [
    {
     "data": {
      "text/plain": [
       "(5,)"
      ]
     },
     "execution_count": 23,
     "metadata": {},
     "output_type": "execute_result"
    }
   ],
   "source": [
    "data.shape"
   ]
  },
  {
   "cell_type": "code",
   "execution_count": 24,
   "id": "5f7adabe-b1ab-4244-b655-7fde089988e6",
   "metadata": {},
   "outputs": [
    {
     "data": {
      "text/plain": [
       "55"
      ]
     },
     "execution_count": 24,
     "metadata": {},
     "output_type": "execute_result"
    }
   ],
   "source": [
    "data[-1]"
   ]
  },
  {
   "cell_type": "code",
   "execution_count": 25,
   "id": "249cb5cf-6665-49b6-8626-c6fb6e9ec670",
   "metadata": {},
   "outputs": [
    {
     "data": {
      "text/plain": [
       "11"
      ]
     },
     "execution_count": 25,
     "metadata": {},
     "output_type": "execute_result"
    }
   ],
   "source": [
    "data[-5]"
   ]
  },
  {
   "cell_type": "code",
   "execution_count": 40,
   "id": "e08705e2-6294-4f0c-9da3-2847f0ec1cc9",
   "metadata": {},
   "outputs": [],
   "source": [
    "data = [[11, 22],\n",
    "       [33, 44],\n",
    "       [55, 66]]\n",
    "data = np.array(data)"
   ]
  },
  {
   "cell_type": "code",
   "execution_count": 41,
   "id": "de384a77-c303-4dd6-8a46-af3e267247c3",
   "metadata": {},
   "outputs": [
    {
     "data": {
      "text/plain": [
       "11"
      ]
     },
     "execution_count": 41,
     "metadata": {},
     "output_type": "execute_result"
    }
   ],
   "source": [
    "data[0][0]"
   ]
  },
  {
   "cell_type": "code",
   "execution_count": 42,
   "id": "542147e9-2164-4b8d-a177-5d9a24bbc209",
   "metadata": {},
   "outputs": [
    {
     "data": {
      "text/plain": [
       "11"
      ]
     },
     "execution_count": 42,
     "metadata": {},
     "output_type": "execute_result"
    }
   ],
   "source": [
    "data[0][0]"
   ]
  },
  {
   "cell_type": "code",
   "execution_count": 43,
   "id": "7f701dc4-fe72-4541-ba9e-6f87fd3c9a5b",
   "metadata": {},
   "outputs": [
    {
     "data": {
      "text/plain": [
       "11"
      ]
     },
     "execution_count": 43,
     "metadata": {},
     "output_type": "execute_result"
    }
   ],
   "source": [
    "data[0][0]"
   ]
  },
  {
   "cell_type": "code",
   "execution_count": 44,
   "id": "96e376a9-25bd-4f38-bc68-6a28fe06e969",
   "metadata": {},
   "outputs": [
    {
     "data": {
      "text/plain": [
       "array([[11, 22],\n",
       "       [33, 44],\n",
       "       [55, 66]])"
      ]
     },
     "execution_count": 44,
     "metadata": {},
     "output_type": "execute_result"
    }
   ],
   "source": [
    "data"
   ]
  },
  {
   "cell_type": "code",
   "execution_count": 46,
   "id": "68b2e067-14d1-4f53-9311-b391a9065106",
   "metadata": {},
   "outputs": [
    {
     "data": {
      "text/plain": [
       "11"
      ]
     },
     "execution_count": 46,
     "metadata": {},
     "output_type": "execute_result"
    }
   ],
   "source": [
    "data[0,0]"
   ]
  },
  {
   "cell_type": "code",
   "execution_count": 47,
   "id": "a71a1b8a-1148-4cd3-bc1c-0f0a95c9d3bc",
   "metadata": {},
   "outputs": [
    {
     "data": {
      "text/plain": [
       "array([11, 22])"
      ]
     },
     "execution_count": 47,
     "metadata": {},
     "output_type": "execute_result"
    }
   ],
   "source": [
    "data[0,]"
   ]
  },
  {
   "cell_type": "code",
   "execution_count": 49,
   "id": "679806cf-4bf0-4662-8e78-4133f62fbeec",
   "metadata": {},
   "outputs": [
    {
     "name": "stdout",
     "output_type": "stream",
     "text": [
      "[11 22 33 44 55]\n"
     ]
    }
   ],
   "source": [
    "data = np.array([11, 22, 33, 44, 55])\n",
    "print(data[:])"
   ]
  },
  {
   "cell_type": "code",
   "execution_count": 54,
   "id": "942b0b59-616f-4636-80e1-a86b65c15426",
   "metadata": {},
   "outputs": [
    {
     "data": {
      "text/plain": [
       "55"
      ]
     },
     "execution_count": 54,
     "metadata": {},
     "output_type": "execute_result"
    }
   ],
   "source": [
    "data[-1]"
   ]
  },
  {
   "cell_type": "code",
   "execution_count": 56,
   "id": "845353cf-78dc-49c8-9a6c-01e142411ccd",
   "metadata": {},
   "outputs": [
    {
     "data": {
      "text/plain": [
       "array([11, 22, 33, 44])"
      ]
     },
     "execution_count": 56,
     "metadata": {},
     "output_type": "execute_result"
    }
   ],
   "source": [
    "data[:-1]"
   ]
  },
  {
   "cell_type": "code",
   "execution_count": 57,
   "id": "f80d0139-ae8d-44f7-bc47-aa38370f2bf4",
   "metadata": {},
   "outputs": [],
   "source": [
    "data = [[11, 22],\n",
    "       [33, 44],\n",
    "       [55, 66]]\n",
    "data = np.array(data)"
   ]
  },
  {
   "cell_type": "code",
   "execution_count": 58,
   "id": "d1ca3c7e-9ec7-4133-9c68-0db8de619d17",
   "metadata": {},
   "outputs": [
    {
     "data": {
      "text/plain": [
       "array([[11, 22],\n",
       "       [33, 44],\n",
       "       [55, 66]])"
      ]
     },
     "execution_count": 58,
     "metadata": {},
     "output_type": "execute_result"
    }
   ],
   "source": [
    "data"
   ]
  },
  {
   "cell_type": "code",
   "execution_count": 60,
   "id": "3f7122ed-4339-460f-b436-b221c58a7a69",
   "metadata": {},
   "outputs": [
    {
     "name": "stdout",
     "output_type": "stream",
     "text": [
      "[[11 22]\n",
      " [44 55]\n",
      " [77 88]]\n",
      "[33 66 99]\n"
     ]
    }
   ],
   "source": [
    "data = np.array([\n",
    "[11, 22, 33],\n",
    "[44, 55, 66],\n",
    "[77, 88, 99]])\n",
    "# separate data\n",
    "X, y = data[:, :-1], data[:, -1]\n",
    "print(X)\n",
    "print(y)"
   ]
  },
  {
   "cell_type": "code",
   "execution_count": 61,
   "id": "b2217768-8e27-4a98-8598-3ed11e994fc6",
   "metadata": {},
   "outputs": [],
   "source": [
    "data = np.array([\n",
    "[11, 22, 33],\n",
    "[44, 55, 66],\n",
    "[77, 88, 99]])\n"
   ]
  },
  {
   "cell_type": "code",
   "execution_count": 62,
   "id": "a00bb4b6-726b-4470-8c93-ebada9a3a3dd",
   "metadata": {},
   "outputs": [
    {
     "data": {
      "text/plain": [
       "array([[11, 22, 33],\n",
       "       [44, 55, 66],\n",
       "       [77, 88, 99]])"
      ]
     },
     "execution_count": 62,
     "metadata": {},
     "output_type": "execute_result"
    }
   ],
   "source": [
    "data"
   ]
  },
  {
   "cell_type": "code",
   "execution_count": 63,
   "id": "9c5d20ea-95fe-48c1-ae00-b99deb01055d",
   "metadata": {},
   "outputs": [],
   "source": [
    "split = 2"
   ]
  },
  {
   "cell_type": "code",
   "execution_count": 71,
   "id": "5ba105da-d5bc-42be-9737-054e47db390e",
   "metadata": {},
   "outputs": [],
   "source": [
    "train = data[:split,:-1]\n",
    "test = data[split:, :-1]"
   ]
  },
  {
   "cell_type": "code",
   "execution_count": 68,
   "id": "ff14ff6f-5411-44af-badb-2009e3cd73a3",
   "metadata": {},
   "outputs": [
    {
     "data": {
      "text/plain": [
       "array([[11, 22],\n",
       "       [44, 55]])"
      ]
     },
     "execution_count": 68,
     "metadata": {},
     "output_type": "execute_result"
    }
   ],
   "source": [
    "train"
   ]
  },
  {
   "cell_type": "code",
   "execution_count": 72,
   "id": "63b9feb3-f10a-4671-9f1f-73638bc93f25",
   "metadata": {},
   "outputs": [
    {
     "data": {
      "text/plain": [
       "array([[77, 88]])"
      ]
     },
     "execution_count": 72,
     "metadata": {},
     "output_type": "execute_result"
    }
   ],
   "source": [
    "test"
   ]
  },
  {
   "cell_type": "code",
   "execution_count": 73,
   "id": "fb9044a6-938b-4be3-8689-bf5ae6a055f6",
   "metadata": {},
   "outputs": [
    {
     "name": "stdout",
     "output_type": "stream",
     "text": [
      "(3, 2)\n"
     ]
    }
   ],
   "source": [
    "from numpy import array\n",
    "# list of data\n",
    "data = [[11, 22],\n",
    "[33, 44],\n",
    "[55, 66]]\n",
    "# array of data\n",
    "data = array(data)\n",
    "print(data.shape)\n"
   ]
  },
  {
   "cell_type": "code",
   "execution_count": 75,
   "id": "488fa940-fd1e-4ade-b2ad-7ed93d5e6a80",
   "metadata": {},
   "outputs": [
    {
     "data": {
      "text/plain": [
       "3"
      ]
     },
     "execution_count": 75,
     "metadata": {},
     "output_type": "execute_result"
    }
   ],
   "source": [
    "data.shape[0]"
   ]
  },
  {
   "cell_type": "code",
   "execution_count": 76,
   "id": "2a44e3c2-5fda-4816-9848-b9b51f51f62e",
   "metadata": {},
   "outputs": [
    {
     "data": {
      "text/plain": [
       "2"
      ]
     },
     "execution_count": 76,
     "metadata": {},
     "output_type": "execute_result"
    }
   ],
   "source": [
    "data.shape[1]"
   ]
  },
  {
   "cell_type": "code",
   "execution_count": 77,
   "id": "372f2857-3cf3-4d51-90ca-aa5f4f0cf81a",
   "metadata": {},
   "outputs": [
    {
     "name": "stdout",
     "output_type": "stream",
     "text": [
      "(5,)\n"
     ]
    }
   ],
   "source": [
    "# reshape 1D array to 2D\n",
    "from numpy import array\n",
    "# define array\n",
    "data = array([11, 22, 33, 44, 55])\n",
    "print(data.shape)\n",
    "# reshape\n",
    "data = data.reshape((data.shape[0], 1))\n"
   ]
  },
  {
   "cell_type": "code",
   "execution_count": 78,
   "id": "f124e5b7-e1e8-4fbe-a556-5439276c6aeb",
   "metadata": {},
   "outputs": [
    {
     "data": {
      "text/plain": [
       "array([[11],\n",
       "       [22],\n",
       "       [33],\n",
       "       [44],\n",
       "       [55]])"
      ]
     },
     "execution_count": 78,
     "metadata": {},
     "output_type": "execute_result"
    }
   ],
   "source": [
    "data"
   ]
  },
  {
   "cell_type": "code",
   "execution_count": 79,
   "id": "cf7f55ac-9141-438b-8790-72c3ba4c832a",
   "metadata": {},
   "outputs": [
    {
     "data": {
      "text/plain": [
       "(5, 1)"
      ]
     },
     "execution_count": 79,
     "metadata": {},
     "output_type": "execute_result"
    }
   ],
   "source": [
    "data.shape"
   ]
  },
  {
   "cell_type": "code",
   "execution_count": 80,
   "id": "b417ec3d-76e7-4412-b569-0ae9fd0496f3",
   "metadata": {},
   "outputs": [
    {
     "data": {
      "text/plain": [
       "array([[[11]],\n",
       "\n",
       "       [[22]],\n",
       "\n",
       "       [[33]],\n",
       "\n",
       "       [[44]],\n",
       "\n",
       "       [[55]]])"
      ]
     },
     "execution_count": 80,
     "metadata": {},
     "output_type": "execute_result"
    }
   ],
   "source": [
    "data.reshape((data.shape[0], data.shape[1], 1))"
   ]
  },
  {
   "cell_type": "code",
   "execution_count": 92,
   "id": "39ad9666-7d40-4c64-ab7b-de569bde1388",
   "metadata": {},
   "outputs": [
    {
     "name": "stdout",
     "output_type": "stream",
     "text": [
      "(3, 2)\n",
      "(3, 2, 1)\n"
     ]
    }
   ],
   "source": [
    "#reshape 2D array to 3D\n",
    "from numpy import array\n",
    "# list of data\n",
    "data = [[11, 22],\n",
    "[33, 44],\n",
    "[55, 66]]\n",
    "# array of data\n",
    "data = array(data)\n",
    "print(data.shape)\n",
    "# reshape\n",
    "data = data.reshape((data.shape[0], data.shape[1], 1))\n",
    "print(data.shape)\n"
   ]
  },
  {
   "cell_type": "code",
   "execution_count": 93,
   "id": "35a7897e-4e28-4396-ab8f-6955060fa7b8",
   "metadata": {},
   "outputs": [
    {
     "name": "stdout",
     "output_type": "stream",
     "text": [
      "[[11]\n",
      " [22]]\n",
      "\n",
      "[[33]\n",
      " [44]]\n",
      "\n",
      "[[55]\n",
      " [66]]\n",
      "\n"
     ]
    }
   ],
   "source": [
    "for i in data: \n",
    "    print(i)\n",
    "    print()"
   ]
  },
  {
   "cell_type": "code",
   "execution_count": 95,
   "id": "60f4d59b-b1dd-4b8c-96e0-553dc0090fbc",
   "metadata": {},
   "outputs": [
    {
     "data": {
      "text/plain": [
       "array([[[11],\n",
       "        [22]],\n",
       "\n",
       "       [[33],\n",
       "        [44]],\n",
       "\n",
       "       [[55],\n",
       "        [66]]])"
      ]
     },
     "execution_count": 95,
     "metadata": {},
     "output_type": "execute_result"
    }
   ],
   "source": [
    "data"
   ]
  },
  {
   "cell_type": "code",
   "execution_count": 96,
   "id": "cb314033-bdc4-49ec-81b4-de1196f04407",
   "metadata": {},
   "outputs": [
    {
     "data": {
      "text/plain": [
       "array([[[0],\n",
       "        [1]],\n",
       "\n",
       "       [[2],\n",
       "        [3]],\n",
       "\n",
       "       [[4],\n",
       "        [5]]])"
      ]
     },
     "execution_count": 96,
     "metadata": {},
     "output_type": "execute_result"
    }
   ],
   "source": [
    "a = np.arange(6).reshape((3, 2, 1))\n",
    "a"
   ]
  },
  {
   "cell_type": "code",
   "execution_count": 97,
   "id": "e81b303e-8a43-481e-89b8-b02a0ec99078",
   "metadata": {},
   "outputs": [
    {
     "data": {
      "text/plain": [
       "(3, 2, 1)"
      ]
     },
     "execution_count": 97,
     "metadata": {},
     "output_type": "execute_result"
    }
   ],
   "source": [
    "a.shape"
   ]
  },
  {
   "cell_type": "code",
   "execution_count": 99,
   "id": "0b4f02a2-ac12-4610-b6a1-4e65f5e219c5",
   "metadata": {},
   "outputs": [
    {
     "data": {
      "text/plain": [
       "array([[0, 1],\n",
       "       [2, 3],\n",
       "       [4, 5]])"
      ]
     },
     "execution_count": 99,
     "metadata": {},
     "output_type": "execute_result"
    }
   ],
   "source": [
    "a.reshape(a.shape[0], a.shape[1])"
   ]
  },
  {
   "cell_type": "code",
   "execution_count": 1,
   "id": "779bfdf5-1625-49fa-8e8a-bf69ff1c1f76",
   "metadata": {},
   "outputs": [],
   "source": [
    "import numpy as np"
   ]
  },
  {
   "cell_type": "code",
   "execution_count": 2,
   "id": "b849ad27-2132-4dae-a469-cc7ebc19b1aa",
   "metadata": {},
   "outputs": [
    {
     "name": "stdout",
     "output_type": "stream",
     "text": [
      "[1 2 3]\n",
      "[[4]\n",
      " [5]\n",
      " [6]]\n"
     ]
    }
   ],
   "source": [
    "a = np.array([1, 2, 3])\n",
    "b = np.array([4, 5, 6]).reshape((3,1))\n",
    "print(a)\n",
    "print(b)"
   ]
  },
  {
   "cell_type": "code",
   "execution_count": 3,
   "id": "4c1377db-13e0-4faa-a0c9-c9e6ba950bc5",
   "metadata": {},
   "outputs": [
    {
     "data": {
      "text/plain": [
       "array([[5, 6, 7],\n",
       "       [6, 7, 8],\n",
       "       [7, 8, 9]])"
      ]
     },
     "execution_count": 3,
     "metadata": {},
     "output_type": "execute_result"
    }
   ],
   "source": [
    "a + b"
   ]
  },
  {
   "cell_type": "code",
   "execution_count": 4,
   "id": "cd4f6bad-5910-4072-b515-bed0a4518c7c",
   "metadata": {},
   "outputs": [],
   "source": [
    "c = np.array([4, 5, 6])"
   ]
  },
  {
   "cell_type": "code",
   "execution_count": 5,
   "id": "0d01002c-dc6b-4776-8479-28518c5f260f",
   "metadata": {},
   "outputs": [
    {
     "data": {
      "text/plain": [
       "array([5, 7, 9])"
      ]
     },
     "execution_count": 5,
     "metadata": {},
     "output_type": "execute_result"
    }
   ],
   "source": [
    "a + c"
   ]
  },
  {
   "cell_type": "code",
   "execution_count": 6,
   "id": "b31b8d26-414a-47a3-bcd3-d340f68214e4",
   "metadata": {},
   "outputs": [],
   "source": [
    "f = 2"
   ]
  },
  {
   "cell_type": "code",
   "execution_count": 7,
   "id": "934f83c9-9e85-4530-a605-bf03b43e4656",
   "metadata": {},
   "outputs": [
    {
     "data": {
      "text/plain": [
       "array([3, 4, 5])"
      ]
     },
     "execution_count": 7,
     "metadata": {},
     "output_type": "execute_result"
    }
   ],
   "source": [
    "a + f"
   ]
  },
  {
   "cell_type": "code",
   "execution_count": 9,
   "id": "dc4fee6e-410b-438b-be7e-43eb13e0baf4",
   "metadata": {},
   "outputs": [],
   "source": [
    "m = np.array([[1, 2, 3], \n",
    "            [4, 5, 6],\n",
    "            [7, 8, 9]])"
   ]
  },
  {
   "cell_type": "code",
   "execution_count": 10,
   "id": "c50d2f35-4c15-457d-b15a-3b744325b448",
   "metadata": {},
   "outputs": [
    {
     "data": {
      "text/plain": [
       "array([[1, 2, 3],\n",
       "       [4, 5, 6],\n",
       "       [7, 8, 9]])"
      ]
     },
     "execution_count": 10,
     "metadata": {},
     "output_type": "execute_result"
    }
   ],
   "source": [
    "m"
   ]
  },
  {
   "cell_type": "code",
   "execution_count": 11,
   "id": "83ca68e1-5c56-447f-b9aa-4c92864f9b37",
   "metadata": {},
   "outputs": [],
   "source": [
    "q = 1"
   ]
  },
  {
   "cell_type": "code",
   "execution_count": 12,
   "id": "4ce4e9de-b08d-4061-9c9c-17af5e3710d5",
   "metadata": {},
   "outputs": [
    {
     "data": {
      "text/plain": [
       "array([[ 2,  3,  4],\n",
       "       [ 5,  6,  7],\n",
       "       [ 8,  9, 10]])"
      ]
     },
     "execution_count": 12,
     "metadata": {},
     "output_type": "execute_result"
    }
   ],
   "source": [
    "m + q"
   ]
  },
  {
   "cell_type": "code",
   "execution_count": 13,
   "id": "82bf4cec-2c50-4738-9744-f1430b16c2d7",
   "metadata": {},
   "outputs": [
    {
     "data": {
      "text/plain": [
       "array([[1, 2, 3],\n",
       "       [4, 5, 6],\n",
       "       [7, 8, 9]])"
      ]
     },
     "execution_count": 13,
     "metadata": {},
     "output_type": "execute_result"
    }
   ],
   "source": [
    "m"
   ]
  },
  {
   "cell_type": "code",
   "execution_count": 14,
   "id": "1905f1e9-a141-4f07-a11f-d6ee6d66d162",
   "metadata": {},
   "outputs": [],
   "source": [
    "n = np.array([1, 1, 1])"
   ]
  },
  {
   "cell_type": "code",
   "execution_count": 15,
   "id": "95e885b8-b4ea-4be0-8d9b-c22766978a4a",
   "metadata": {},
   "outputs": [
    {
     "data": {
      "text/plain": [
       "array([[ 2,  3,  4],\n",
       "       [ 5,  6,  7],\n",
       "       [ 8,  9, 10]])"
      ]
     },
     "execution_count": 15,
     "metadata": {},
     "output_type": "execute_result"
    }
   ],
   "source": [
    "m + n"
   ]
  },
  {
   "cell_type": "code",
   "execution_count": 16,
   "id": "3fada9c7-9ebd-48b6-9f93-186fe55cfb3c",
   "metadata": {},
   "outputs": [
    {
     "data": {
      "text/plain": [
       "array([ 6, 15, 24])"
      ]
     },
     "execution_count": 16,
     "metadata": {},
     "output_type": "execute_result"
    }
   ],
   "source": [
    "m.dot(n)"
   ]
  },
  {
   "cell_type": "code",
   "execution_count": 17,
   "id": "01a37f20-b1b9-4a86-adf6-59625ce60fa4",
   "metadata": {},
   "outputs": [
    {
     "data": {
      "text/plain": [
       "array([[1, 4, 7],\n",
       "       [2, 5, 8],\n",
       "       [3, 6, 9]])"
      ]
     },
     "execution_count": 17,
     "metadata": {},
     "output_type": "execute_result"
    }
   ],
   "source": [
    "m.T"
   ]
  },
  {
   "cell_type": "code",
   "execution_count": 28,
   "id": "cb6153fd-0c89-454c-8a66-86e41bc3cb43",
   "metadata": {},
   "outputs": [
    {
     "data": {
      "text/plain": [
       "array([[ 3.15251974e+15, -6.30503948e+15,  3.15251974e+15],\n",
       "       [-6.30503948e+15,  1.26100790e+16, -6.30503948e+15],\n",
       "       [ 3.15251974e+15, -6.30503948e+15,  3.15251974e+15]])"
      ]
     },
     "execution_count": 28,
     "metadata": {},
     "output_type": "execute_result"
    }
   ],
   "source": [
    "np.linalg.inv(m) "
   ]
  },
  {
   "cell_type": "code",
   "execution_count": 36,
   "id": "59db9957-041e-4229-9a2a-2886dc6260e6",
   "metadata": {},
   "outputs": [
    {
     "name": "stdout",
     "output_type": "stream",
     "text": [
      "(2, 3)\n",
      "(2,)\n"
     ]
    },
    {
     "ename": "ValueError",
     "evalue": "operands could not be broadcast together with shapes (2,3) (2,) ",
     "output_type": "error",
     "traceback": [
      "\u001b[1;31m---------------------------------------------------------------------------\u001b[0m",
      "\u001b[1;31mValueError\u001b[0m                                Traceback (most recent call last)",
      "\u001b[1;32m<ipython-input-36-bf2063b2b3b9>\u001b[0m in \u001b[0;36m<module>\u001b[1;34m\u001b[0m\n\u001b[0;32m      9\u001b[0m \u001b[0mprint\u001b[0m\u001b[1;33m(\u001b[0m\u001b[0mb\u001b[0m\u001b[1;33m.\u001b[0m\u001b[0mshape\u001b[0m\u001b[1;33m)\u001b[0m\u001b[1;33m\u001b[0m\u001b[1;33m\u001b[0m\u001b[0m\n\u001b[0;32m     10\u001b[0m \u001b[1;31m# attempt broadcast\u001b[0m\u001b[1;33m\u001b[0m\u001b[1;33m\u001b[0m\u001b[1;33m\u001b[0m\u001b[0m\n\u001b[1;32m---> 11\u001b[1;33m \u001b[0mC\u001b[0m \u001b[1;33m=\u001b[0m \u001b[0mA\u001b[0m \u001b[1;33m+\u001b[0m \u001b[0mb\u001b[0m\u001b[1;33m\u001b[0m\u001b[1;33m\u001b[0m\u001b[0m\n\u001b[0m\u001b[0;32m     12\u001b[0m \u001b[0mprint\u001b[0m\u001b[1;33m(\u001b[0m\u001b[0mC\u001b[0m\u001b[1;33m)\u001b[0m\u001b[1;33m\u001b[0m\u001b[1;33m\u001b[0m\u001b[0m\n\u001b[0;32m     13\u001b[0m \u001b[1;33m\u001b[0m\u001b[0m\n",
      "\u001b[1;31mValueError\u001b[0m: operands could not be broadcast together with shapes (2,3) (2,) "
     ]
    }
   ],
   "source": [
    "from numpy import array\n",
    "# define two-dimensional array\n",
    "A = array([\n",
    "[1, 2, 3],\n",
    "[1, 2, 3]])\n",
    "print(A.shape)\n",
    "# define one-dimensional array\n",
    "b = array([1, 2])\n",
    "print(b.shape)\n",
    "# attempt broadcast\n",
    "C = A + b\n",
    "print(C)\n",
    " \n",
    "    "
   ]
  },
  {
   "cell_type": "code",
   "execution_count": 31,
   "id": "117a8c76-fd61-4096-ab1f-9b0887209f52",
   "metadata": {},
   "outputs": [
    {
     "data": {
      "text/plain": [
       "array([[1],\n",
       "       [2]])"
      ]
     },
     "execution_count": 31,
     "metadata": {},
     "output_type": "execute_result"
    }
   ],
   "source": [
    "b"
   ]
  },
  {
   "cell_type": "code",
   "execution_count": 32,
   "id": "e5c899fb-6491-4369-b669-63777f93a777",
   "metadata": {},
   "outputs": [
    {
     "data": {
      "text/plain": [
       "array([[1, 2, 3],\n",
       "       [1, 2, 3]])"
      ]
     },
     "execution_count": 32,
     "metadata": {},
     "output_type": "execute_result"
    }
   ],
   "source": [
    "A"
   ]
  },
  {
   "cell_type": "code",
   "execution_count": 33,
   "id": "2d91e773-0d23-4a95-942d-b413d02401cb",
   "metadata": {},
   "outputs": [
    {
     "data": {
      "text/plain": [
       "array([[2, 3, 4],\n",
       "       [3, 4, 5]])"
      ]
     },
     "execution_count": 33,
     "metadata": {},
     "output_type": "execute_result"
    }
   ],
   "source": [
    "C\n"
   ]
  },
  {
   "cell_type": "code",
   "execution_count": 39,
   "id": "5a9ea9d5-a1ab-4d2d-80e6-65ede2f0f40e",
   "metadata": {},
   "outputs": [
    {
     "data": {
      "text/plain": [
       "array([[1],\n",
       "       [2]])"
      ]
     },
     "execution_count": 39,
     "metadata": {},
     "output_type": "execute_result"
    }
   ],
   "source": [
    "array([1, 2]).reshape((2,1))"
   ]
  },
  {
   "cell_type": "markdown",
   "id": "96658f8a-90d5-4f19-a1e5-a13cac2936b6",
   "metadata": {},
   "source": [
    "## Matrices"
   ]
  },
  {
   "cell_type": "code",
   "execution_count": 1,
   "id": "8eba75b2-17e5-4dcd-a6fe-bf7df1f7ad27",
   "metadata": {},
   "outputs": [
    {
     "data": {
      "text/plain": [
       "array([1, 2, 3])"
      ]
     },
     "execution_count": 1,
     "metadata": {},
     "output_type": "execute_result"
    }
   ],
   "source": [
    "from numpy import array \n",
    "\n",
    "v = array([1, 2,3])\n",
    "v"
   ]
  },
  {
   "cell_type": "code",
   "execution_count": 2,
   "id": "8b7846ea-4d5a-417f-be35-ddc97f9d1e93",
   "metadata": {},
   "outputs": [],
   "source": [
    "a = array([1, 2, 3])\n",
    "b = array([1, 2, 3])"
   ]
  },
  {
   "cell_type": "code",
   "execution_count": 3,
   "id": "64d37e37-29b5-41b0-8b48-20a1392c852b",
   "metadata": {},
   "outputs": [],
   "source": [
    "c = a + b"
   ]
  },
  {
   "cell_type": "code",
   "execution_count": 4,
   "id": "e512bced-f53c-4dd3-937c-472bfaf56015",
   "metadata": {},
   "outputs": [
    {
     "data": {
      "text/plain": [
       "array([2, 4, 6])"
      ]
     },
     "execution_count": 4,
     "metadata": {},
     "output_type": "execute_result"
    }
   ],
   "source": [
    "c"
   ]
  },
  {
   "cell_type": "code",
   "execution_count": 6,
   "id": "9d113413-16a6-4619-b441-21b03d35c543",
   "metadata": {},
   "outputs": [
    {
     "data": {
      "text/plain": [
       "array([0, 0, 0])"
      ]
     },
     "execution_count": 6,
     "metadata": {},
     "output_type": "execute_result"
    }
   ],
   "source": [
    "c = a - b \n",
    "c"
   ]
  },
  {
   "cell_type": "code",
   "execution_count": 7,
   "id": "32f8a274-ec47-433f-ab97-574e59b2668a",
   "metadata": {},
   "outputs": [
    {
     "data": {
      "text/plain": [
       "array([1, 4, 9])"
      ]
     },
     "execution_count": 7,
     "metadata": {},
     "output_type": "execute_result"
    }
   ],
   "source": [
    "c = a * b \n",
    "c"
   ]
  },
  {
   "cell_type": "code",
   "execution_count": 9,
   "id": "016c99af-2d68-41ad-aa84-3b99e9e9b926",
   "metadata": {},
   "outputs": [
    {
     "data": {
      "text/plain": [
       "array([1, 1, 1], dtype=int32)"
      ]
     },
     "execution_count": 9,
     "metadata": {},
     "output_type": "execute_result"
    }
   ],
   "source": [
    "c = a // b \n",
    "c"
   ]
  },
  {
   "cell_type": "code",
   "execution_count": 10,
   "id": "b43088d3-00f3-4e8c-a533-ac4d08247434",
   "metadata": {},
   "outputs": [
    {
     "data": {
      "text/plain": [
       "14"
      ]
     },
     "execution_count": 10,
     "metadata": {},
     "output_type": "execute_result"
    }
   ],
   "source": [
    "a.dot(b)"
   ]
  },
  {
   "cell_type": "code",
   "execution_count": 13,
   "id": "ee251f9c-04f5-4a84-9c65-d6f5effc4ebe",
   "metadata": {},
   "outputs": [
    {
     "data": {
      "text/plain": [
       "array([2, 4, 6])"
      ]
     },
     "execution_count": 13,
     "metadata": {},
     "output_type": "execute_result"
    }
   ],
   "source": [
    "a.dot(2)"
   ]
  },
  {
   "cell_type": "code",
   "execution_count": 14,
   "id": "16868fd5-c2c7-4d15-a1a0-d1653b64fe4a",
   "metadata": {},
   "outputs": [
    {
     "data": {
      "text/plain": [
       "array([2, 4, 6])"
      ]
     },
     "execution_count": 14,
     "metadata": {},
     "output_type": "execute_result"
    }
   ],
   "source": [
    "a * 2"
   ]
  },
  {
   "cell_type": "markdown",
   "id": "fbfcfd1e-5751-4733-8750-a2f22ce2b2a3",
   "metadata": {},
   "source": [
    "## Vector Normes"
   ]
  },
  {
   "cell_type": "code",
   "execution_count": 1,
   "id": "84ecb440-aa32-4ee9-b214-07eec4ea0b8f",
   "metadata": {},
   "outputs": [],
   "source": [
    "import numpy as np"
   ]
  },
  {
   "cell_type": "code",
   "execution_count": 2,
   "id": "4ad21f36-ff15-4f38-baec-e15196533d65",
   "metadata": {},
   "outputs": [
    {
     "data": {
      "text/plain": [
       "array([1, 2, 3])"
      ]
     },
     "execution_count": 2,
     "metadata": {},
     "output_type": "execute_result"
    }
   ],
   "source": [
    "a = np.array([1, 2, 3])\n",
    "a"
   ]
  },
  {
   "cell_type": "markdown",
   "id": "1640ef5f-59a4-4321-a444-bcd5aa68d281",
   "metadata": {},
   "source": [
    "### $L^1$ norm"
   ]
  },
  {
   "cell_type": "code",
   "execution_count": 3,
   "id": "e6c35c28-6bc6-48f4-8d9f-ba3d1993e029",
   "metadata": {},
   "outputs": [
    {
     "data": {
      "text/plain": [
       "6.0"
      ]
     },
     "execution_count": 3,
     "metadata": {},
     "output_type": "execute_result"
    }
   ],
   "source": [
    "l1 = np.linalg.norm(a, 1)\n",
    "l1"
   ]
  },
  {
   "cell_type": "markdown",
   "id": "0a38fdae-13e0-4f9d-b721-6a0fc921a0cc",
   "metadata": {},
   "source": [
    "### $L^2$ norm"
   ]
  },
  {
   "cell_type": "code",
   "execution_count": 4,
   "id": "3146d8f8-3e54-4b1f-a674-d19fe3360f66",
   "metadata": {},
   "outputs": [
    {
     "data": {
      "text/plain": [
       "3.7416573867739413"
      ]
     },
     "execution_count": 4,
     "metadata": {},
     "output_type": "execute_result"
    }
   ],
   "source": [
    "np.linalg.norm(a)"
   ]
  },
  {
   "cell_type": "markdown",
   "id": "8e407e7d-f57e-452a-9503-f3ed340a876d",
   "metadata": {},
   "source": [
    "### Max norm"
   ]
  },
  {
   "cell_type": "code",
   "execution_count": 12,
   "id": "bd4c2bfc-f2d7-4e9e-856d-164f91361560",
   "metadata": {},
   "outputs": [
    {
     "data": {
      "text/plain": [
       "3.0"
      ]
     },
     "execution_count": 12,
     "metadata": {},
     "output_type": "execute_result"
    }
   ],
   "source": [
    "np.linalg.norm(a, np.inf)"
   ]
  },
  {
   "cell_type": "code",
   "execution_count": 13,
   "id": "c521453d-4654-4556-ae65-90330e7e34bc",
   "metadata": {},
   "outputs": [
    {
     "data": {
      "text/plain": [
       "[[1, 2, 3], [4, 5, 6]]"
      ]
     },
     "execution_count": 13,
     "metadata": {},
     "output_type": "execute_result"
    }
   ],
   "source": [
    "a = [[1,2,3],\n",
    "    [4,5,6]]\n",
    "a"
   ]
  },
  {
   "cell_type": "code",
   "execution_count": 14,
   "id": "13e25f72-4334-4191-be5d-42057f990dc2",
   "metadata": {},
   "outputs": [
    {
     "data": {
      "text/plain": [
       "array([[1, 2, 3],\n",
       "       [4, 5, 6]])"
      ]
     },
     "execution_count": 14,
     "metadata": {},
     "output_type": "execute_result"
    }
   ],
   "source": [
    "m = np.array(a)\n",
    "m"
   ]
  },
  {
   "cell_type": "code",
   "execution_count": 22,
   "id": "b7c64822-efba-4a85-bce3-1db647b400d3",
   "metadata": {},
   "outputs": [
    {
     "data": {
      "text/plain": [
       "9.0"
      ]
     },
     "execution_count": 22,
     "metadata": {},
     "output_type": "execute_result"
    }
   ],
   "source": [
    "np.linalg.norm(m, 1)"
   ]
  },
  {
   "cell_type": "markdown",
   "id": "e15fde84-2504-419f-bdf5-485cbc7328c7",
   "metadata": {},
   "source": [
    "## Chapter 9\n",
    "\n",
    "Matrices and Matrix Arithmetic"
   ]
  },
  {
   "cell_type": "code",
   "execution_count": 1,
   "id": "48e49535-5d0e-4358-8751-8d6e02dc5314",
   "metadata": {},
   "outputs": [],
   "source": [
    "import numpy as np"
   ]
  },
  {
   "cell_type": "code",
   "execution_count": 3,
   "id": "c5a32afe-eb09-4aec-9328-3c381af71470",
   "metadata": {},
   "outputs": [
    {
     "data": {
      "text/plain": [
       "array([[1, 2, 3],\n",
       "       [4, 5, 6]])"
      ]
     },
     "execution_count": 3,
     "metadata": {},
     "output_type": "execute_result"
    }
   ],
   "source": [
    "A = np.array([[1, 2, 3],\n",
    "             [4, 5, 6]])\n",
    "A"
   ]
  },
  {
   "cell_type": "code",
   "execution_count": 8,
   "id": "99669a23-c725-43a2-bf8e-9844e67972ee",
   "metadata": {},
   "outputs": [
    {
     "data": {
      "text/plain": [
       "2"
      ]
     },
     "execution_count": 8,
     "metadata": {},
     "output_type": "execute_result"
    }
   ],
   "source": [
    "A.shape[0]"
   ]
  },
  {
   "cell_type": "code",
   "execution_count": 12,
   "id": "12e6e550-af10-4bf8-84b6-4e18eb89ac46",
   "metadata": {},
   "outputs": [
    {
     "name": "stdout",
     "output_type": "stream",
     "text": [
      "2.47 µs ± 88.3 ns per loop (mean ± std. dev. of 7 runs, 100000 loops each)\n"
     ]
    }
   ],
   "source": [
    "%timeit A.sum(axis = 1)"
   ]
  },
  {
   "cell_type": "code",
   "execution_count": 11,
   "id": "5b85e396-7cee-44c4-9d7f-db436c02b054",
   "metadata": {},
   "outputs": [
    {
     "name": "stdout",
     "output_type": "stream",
     "text": [
      "4.65 µs ± 332 ns per loop (mean ± std. dev. of 7 runs, 100000 loops each)\n"
     ]
    }
   ],
   "source": [
    "%timeit np.sum(A, axis = 1)"
   ]
  },
  {
   "cell_type": "code",
   "execution_count": 13,
   "id": "b357105a-4240-4d80-a848-43cf65957b82",
   "metadata": {},
   "outputs": [
    {
     "data": {
      "text/plain": [
       "array([[1, 2, 3],\n",
       "       [4, 5, 6]])"
      ]
     },
     "execution_count": 13,
     "metadata": {},
     "output_type": "execute_result"
    }
   ],
   "source": [
    "A"
   ]
  },
  {
   "cell_type": "code",
   "execution_count": 27,
   "id": "67b87c3c-9fa4-43c5-bed7-08f51d09b1e0",
   "metadata": {},
   "outputs": [
    {
     "data": {
      "text/plain": [
       "array([[1, 2],\n",
       "       [4, 5],\n",
       "       [5, 7]])"
      ]
     },
     "execution_count": 27,
     "metadata": {},
     "output_type": "execute_result"
    }
   ],
   "source": [
    "B = np.array([[1, 2],\n",
    "             [4, 5],\n",
    "             [5, 7]])\n",
    "B"
   ]
  },
  {
   "cell_type": "code",
   "execution_count": 15,
   "id": "f4f777b7-01d7-4592-81cc-8d93a523b63c",
   "metadata": {},
   "outputs": [
    {
     "data": {
      "text/plain": [
       "array([[ 2,  4,  6],\n",
       "       [ 8, 10, 12]])"
      ]
     },
     "execution_count": 15,
     "metadata": {},
     "output_type": "execute_result"
    }
   ],
   "source": [
    "A + B"
   ]
  },
  {
   "cell_type": "code",
   "execution_count": 16,
   "id": "6edca496-9c97-4738-a952-f26bfe1c868a",
   "metadata": {},
   "outputs": [
    {
     "data": {
      "text/plain": [
       "array([[0, 0, 0],\n",
       "       [0, 0, 0]])"
      ]
     },
     "execution_count": 16,
     "metadata": {},
     "output_type": "execute_result"
    }
   ],
   "source": [
    "A - B"
   ]
  },
  {
   "cell_type": "code",
   "execution_count": 17,
   "id": "8eb13595-0cef-4da4-a1b1-e295c38a3912",
   "metadata": {},
   "outputs": [
    {
     "data": {
      "text/plain": [
       "array([[ 1,  4,  9],\n",
       "       [16, 25, 36]])"
      ]
     },
     "execution_count": 17,
     "metadata": {},
     "output_type": "execute_result"
    }
   ],
   "source": [
    "A * B"
   ]
  },
  {
   "cell_type": "code",
   "execution_count": 20,
   "id": "3c416e12-8a43-40a6-b312-36a89fe6a3b3",
   "metadata": {},
   "outputs": [
    {
     "data": {
      "text/plain": [
       "array([[1., 1., 1.],\n",
       "       [1., 1., 1.]])"
      ]
     },
     "execution_count": 20,
     "metadata": {},
     "output_type": "execute_result"
    }
   ],
   "source": [
    "A / B"
   ]
  },
  {
   "cell_type": "code",
   "execution_count": 24,
   "id": "1352af9f-dd56-4f66-8e21-9438c207af40",
   "metadata": {},
   "outputs": [
    {
     "data": {
      "text/plain": [
       "array([[1, 2],\n",
       "       [4, 5]])"
      ]
     },
     "execution_count": 24,
     "metadata": {},
     "output_type": "execute_result"
    }
   ],
   "source": [
    "B"
   ]
  },
  {
   "cell_type": "code",
   "execution_count": 25,
   "id": "0322cd79-8dbc-4e1e-9fa8-0d4a665ddfbf",
   "metadata": {},
   "outputs": [
    {
     "data": {
      "text/plain": [
       "array([[1, 2, 3],\n",
       "       [4, 5, 6]])"
      ]
     },
     "execution_count": 25,
     "metadata": {},
     "output_type": "execute_result"
    }
   ],
   "source": [
    "A"
   ]
  },
  {
   "cell_type": "code",
   "execution_count": 31,
   "id": "c46efe17-9c9e-4fdf-87e1-bff724691c53",
   "metadata": {},
   "outputs": [
    {
     "data": {
      "text/plain": [
       "(2, 3)"
      ]
     },
     "execution_count": 31,
     "metadata": {},
     "output_type": "execute_result"
    }
   ],
   "source": [
    "A.shape"
   ]
  },
  {
   "cell_type": "code",
   "execution_count": 30,
   "id": "59fa73ae-fd8d-4f65-bb3d-cf7849216ae6",
   "metadata": {},
   "outputs": [
    {
     "data": {
      "text/plain": [
       "(3, 2)"
      ]
     },
     "execution_count": 30,
     "metadata": {},
     "output_type": "execute_result"
    }
   ],
   "source": [
    "B.shape"
   ]
  },
  {
   "cell_type": "code",
   "execution_count": 28,
   "id": "91847154-21c2-4394-8631-042d061dd073",
   "metadata": {},
   "outputs": [
    {
     "data": {
      "text/plain": [
       "array([[24, 33],\n",
       "       [54, 75]])"
      ]
     },
     "execution_count": 28,
     "metadata": {},
     "output_type": "execute_result"
    }
   ],
   "source": [
    "A @ B"
   ]
  },
  {
   "cell_type": "markdown",
   "id": "007d970d-78df-45c8-9cfd-09d6f32dc1b9",
   "metadata": {},
   "source": [
    "Number of columns in the first martix $A$ must be equal to the number of rows of the second matrix $B$"
   ]
  },
  {
   "cell_type": "code",
   "execution_count": 34,
   "id": "61576d21-b0be-4b04-a412-2ad227e5bbbc",
   "metadata": {},
   "outputs": [
    {
     "name": "stdout",
     "output_type": "stream",
     "text": [
      "\n",
      "[[1 2]\n",
      " [3 4]\n",
      " [5 6]]\n",
      "\n",
      "[[1 2]\n",
      " [3 4]]\n",
      "\n",
      "[[ 7 10]\n",
      " [15 22]\n",
      " [23 34]]\n",
      "\n",
      "[[ 7 10]\n",
      " [15 22]\n",
      " [23 34]]\n"
     ]
    }
   ],
   "source": [
    "# define first matrix\n",
    "A = np.array([\n",
    "[1, 2],\n",
    "[3, 4],\n",
    "[5, 6]])\n",
    "print()\n",
    "print(A)\n",
    "print()\n",
    "# define second matrix\n",
    "B = np.array([\n",
    "[1, 2],\n",
    "[3, 4]])\n",
    "print(B)\n",
    "print()\n",
    "# multiply matrices\n",
    "C = A.dot(B)\n",
    "print(C)\n",
    "print()\n",
    "# multiply matrices with @ operator\n",
    "D = A @ B\n",
    "print(D)\n"
   ]
  },
  {
   "cell_type": "markdown",
   "id": "6400e885-a875-46fc-9898-c421398b4823",
   "metadata": {},
   "source": [
    "$A$ with $m, n$, and $B$ with $k, h$, $C$ will be with $m, h$ "
   ]
  },
  {
   "cell_type": "code",
   "execution_count": 37,
   "id": "63cd9870-e155-4e92-aa8f-82c2312ca9ba",
   "metadata": {},
   "outputs": [
    {
     "data": {
      "text/plain": [
       "array([[1, 2],\n",
       "       [3, 4],\n",
       "       [5, 6]])"
      ]
     },
     "execution_count": 37,
     "metadata": {},
     "output_type": "execute_result"
    }
   ],
   "source": [
    "A "
   ]
  },
  {
   "cell_type": "code",
   "execution_count": 40,
   "id": "9498f992-4a8c-4a78-b112-cd93e9262e47",
   "metadata": {},
   "outputs": [
    {
     "data": {
      "text/plain": [
       "array([[1, 2],\n",
       "       [3, 4],\n",
       "       [5, 6]])"
      ]
     },
     "execution_count": 40,
     "metadata": {},
     "output_type": "execute_result"
    }
   ],
   "source": [
    "A"
   ]
  },
  {
   "cell_type": "code",
   "execution_count": 38,
   "id": "60c9f0de-03af-46b8-8a6d-668dc1b2ec0e",
   "metadata": {},
   "outputs": [
    {
     "data": {
      "text/plain": [
       "array([0.5, 0.5])"
      ]
     },
     "execution_count": 38,
     "metadata": {},
     "output_type": "execute_result"
    }
   ],
   "source": [
    "k = np.array([0.5, 0.5])\n",
    "k"
   ]
  },
  {
   "cell_type": "code",
   "execution_count": 39,
   "id": "62b1a248-96dc-4c71-8ea3-40e92d57b486",
   "metadata": {},
   "outputs": [
    {
     "data": {
      "text/plain": [
       "array([1.5, 3.5, 5.5])"
      ]
     },
     "execution_count": 39,
     "metadata": {},
     "output_type": "execute_result"
    }
   ],
   "source": [
    "A.dot(k)"
   ]
  },
  {
   "cell_type": "code",
   "execution_count": 41,
   "id": "7dc42ea4-3db8-4241-86fc-e90c92d8b804",
   "metadata": {},
   "outputs": [],
   "source": [
    "scalar = 0.5"
   ]
  },
  {
   "cell_type": "code",
   "execution_count": 50,
   "id": "affdb3aa-4689-4fae-90d5-ba47b3513bc8",
   "metadata": {},
   "outputs": [
    {
     "data": {
      "text/plain": [
       "array([[0.5, 1. ],\n",
       "       [1.5, 2. ],\n",
       "       [2.5, 3. ]])"
      ]
     },
     "execution_count": 50,
     "metadata": {},
     "output_type": "execute_result"
    }
   ],
   "source": [
    "A.dot(scalar)"
   ]
  },
  {
   "cell_type": "code",
   "execution_count": 49,
   "id": "21fcf0a9-451d-4e6b-bf1d-a878bed9140c",
   "metadata": {},
   "outputs": [
    {
     "data": {
      "text/plain": [
       "array([[1, 2],\n",
       "       [3, 4],\n",
       "       [5, 6]])"
      ]
     },
     "execution_count": 49,
     "metadata": {},
     "output_type": "execute_result"
    }
   ],
   "source": [
    "A"
   ]
  },
  {
   "cell_type": "code",
   "execution_count": 51,
   "id": "9e2bc129-a724-45df-ada9-d9cd2d68795e",
   "metadata": {},
   "outputs": [
    {
     "data": {
      "text/plain": [
       "array([[0.5, 1. ],\n",
       "       [1.5, 2. ],\n",
       "       [2.5, 3. ]])"
      ]
     },
     "execution_count": 51,
     "metadata": {},
     "output_type": "execute_result"
    }
   ],
   "source": [
    "A * scalar"
   ]
  },
  {
   "cell_type": "markdown",
   "id": "b6f08f1c-88da-4655-b6a6-9908ab2d4054",
   "metadata": {},
   "source": [
    "## Chapter 10: Types of Matrices"
   ]
  },
  {
   "cell_type": "markdown",
   "id": "6ebe96d2-0175-4fee-bcde-bdf72f70c9bc",
   "metadata": {},
   "source": [
    "# there are six types of matrices. \n",
    "\n",
    "- **Square matrix**: the number of rows is equal to the number of columns $ n . n$. order *n* square matrix means $ n . n$ matrix; \n",
    "- **Symmetric matrix**: where the top right traingle is the same as bottom right triangle. So, the $S$ transpose is the matrix $S$ itself. \n",
    "- **Triangular matrix**: is a type of square matrix where it has all values in the upper-right or lower-left of the martix are filled with zeros.  \n",
    "- **Diagonal matrix**: is a matrix where the outside the diagonal is filled with zeros and it is denoted by $D$, as matrix or a vector of the values of the diagonal. Dianognal matrix does not have to be square. the diagonal is 1, the rest all zeros. \n",
    "- **Identity matrix**: is a sqaure matrix, it does not change a vector when multiplied.  \n",
    "- **Orthogonal matrix**: two vectors are orthogonal when their dot product equals zero. the length of each vector is $1$ then the vectors are called othonormal because they are both orthogonal and normalized $$ v . w = 0$$ or $$v . w^{T} = 0$$ Orthogonal matrix is a type of square matrix whose columns and rows are orthonormal unit vectors, It is always denoted by *Q*. $$Q^T . Q = Q . Q^T = I$$ A matrix is orthogonal if its transpose is equal to its inverse. "
   ]
  },
  {
   "cell_type": "code",
   "execution_count": 15,
   "id": "969d0f70-b8f3-4b4a-8fd2-1156763cdad1",
   "metadata": {},
   "outputs": [
    {
     "name": "stdout",
     "output_type": "stream",
     "text": [
      "[[1 2 3]\n",
      " [1 2 3]\n",
      " [1 2 3]]\n",
      "\n",
      "[[1 0 0]\n",
      " [1 2 0]\n",
      " [1 2 3]]\n",
      "\n",
      "[[1 2 3]\n",
      " [0 2 3]\n",
      " [0 0 3]]\n"
     ]
    }
   ],
   "source": [
    "M = np.array([\n",
    "[1, 2, 3],\n",
    "[1, 2, 3],\n",
    "[1, 2, 3]])\n",
    "print(M)\n",
    "print()\n",
    "l = np.tril(M)\n",
    "print(l)\n",
    "print()\n",
    "\n",
    "u = np.triu(M)\n",
    "print(u)"
   ]
  },
  {
   "cell_type": "code",
   "execution_count": 19,
   "id": "e7cde7f3-1677-4c2c-9e3a-c958868c42a6",
   "metadata": {},
   "outputs": [
    {
     "data": {
      "text/plain": [
       "array([1, 2, 3])"
      ]
     },
     "execution_count": 19,
     "metadata": {},
     "output_type": "execute_result"
    }
   ],
   "source": [
    "# turn into vector \n",
    "d = np.diag(M)\n",
    "d"
   ]
  },
  {
   "cell_type": "code",
   "execution_count": 24,
   "id": "fd3e3349-ccdf-43c2-bffb-0c7092d5d025",
   "metadata": {},
   "outputs": [
    {
     "data": {
      "text/plain": [
       "array([[1, 0, 0],\n",
       "       [0, 2, 0],\n",
       "       [0, 0, 3]])"
      ]
     },
     "execution_count": 24,
     "metadata": {},
     "output_type": "execute_result"
    }
   ],
   "source": [
    "# turn back the vector into a matrix\n",
    "np.diag(d)"
   ]
  },
  {
   "cell_type": "code",
   "execution_count": 25,
   "id": "f6083df9-c872-4efa-bdb3-cba9e0f1c270",
   "metadata": {},
   "outputs": [
    {
     "data": {
      "text/plain": [
       "array([[0, 0, 1, 0, 0],\n",
       "       [0, 0, 0, 2, 0],\n",
       "       [0, 0, 0, 0, 3],\n",
       "       [0, 0, 0, 0, 0],\n",
       "       [0, 0, 0, 0, 0]])"
      ]
     },
     "execution_count": 25,
     "metadata": {},
     "output_type": "execute_result"
    }
   ],
   "source": [
    "np.diag(d, k=2)"
   ]
  },
  {
   "cell_type": "code",
   "execution_count": 34,
   "id": "a2c593d7-47cd-4df5-8a23-b04a8aac7d14",
   "metadata": {},
   "outputs": [
    {
     "data": {
      "text/plain": [
       "array([[1., 0., 0.],\n",
       "       [0., 1., 0.],\n",
       "       [0., 0., 1.]])"
      ]
     },
     "execution_count": 34,
     "metadata": {},
     "output_type": "execute_result"
    }
   ],
   "source": [
    "i = np.eye(M.shape[0])\n",
    "i"
   ]
  },
  {
   "cell_type": "code",
   "execution_count": 35,
   "id": "dbc7c447-68bc-40e0-b17e-c3059fd09d55",
   "metadata": {},
   "outputs": [],
   "source": [
    "v = np.array([1, 2, 3])"
   ]
  },
  {
   "cell_type": "code",
   "execution_count": 36,
   "id": "d20c2d40-5b55-49c1-a62c-0e497c7d4686",
   "metadata": {},
   "outputs": [
    {
     "data": {
      "text/plain": [
       "array([[1., 0., 0.],\n",
       "       [0., 2., 0.],\n",
       "       [0., 0., 3.]])"
      ]
     },
     "execution_count": 36,
     "metadata": {},
     "output_type": "execute_result"
    }
   ],
   "source": [
    "i * v"
   ]
  },
  {
   "cell_type": "code",
   "execution_count": 37,
   "id": "5cfced48-7134-4569-b13d-93505aa5b0ab",
   "metadata": {},
   "outputs": [
    {
     "data": {
      "text/plain": [
       "array([1., 2., 3.])"
      ]
     },
     "execution_count": 37,
     "metadata": {},
     "output_type": "execute_result"
    }
   ],
   "source": [
    "i.dot(v)"
   ]
  },
  {
   "cell_type": "code",
   "execution_count": 40,
   "id": "4f241cd5-42d7-41bb-a018-d4a908cd1925",
   "metadata": {},
   "outputs": [
    {
     "name": "stdout",
     "output_type": "stream",
     "text": [
      "[[ 1  0]\n",
      " [ 0 -1]]\n",
      "\n",
      "[[ 1.  0.]\n",
      " [-0. -1.]]\n",
      "\n",
      "[[1. 0.]\n",
      " [0. 1.]]\n"
     ]
    }
   ],
   "source": [
    "# oprthogonal matrix \n",
    "\n",
    "Q = np.array([[1, 0],\n",
    "            [0, -1]])\n",
    "\n",
    "print(Q)\n",
    "print()\n",
    "# inverse equivalence \n",
    "V = np.linalg.inv(Q)\n",
    "print(V)\n",
    "print()\n",
    "# Identity equivalence \n",
    "I = Q.dot(V)\n",
    "print(I)"
   ]
  },
  {
   "cell_type": "code",
   "execution_count": 42,
   "id": "18668a77-7da3-4652-b1f7-30b3adc28278",
   "metadata": {},
   "outputs": [
    {
     "name": "stdout",
     "output_type": "stream",
     "text": [
      "This is the Transpose of Q\n",
      "[[ 1  0]\n",
      " [ 0 -1]]\n",
      "\n",
      "this is the inverse of Q\n",
      "[[ 1.  0.]\n",
      " [-0. -1.]]\n"
     ]
    }
   ],
   "source": [
    "# orthogonal matrix is a matrix where its transpose is equal to its inverse \n",
    "print(\"This is the Transpose of Q\")\n",
    "print(Q.T)\n",
    "print()\n",
    "print(\"this is the inverse of Q\")\n",
    "print(np.linalg.inv(Q))"
   ]
  },
  {
   "cell_type": "markdown",
   "id": "aa546325-37b4-4291-861e-dc043f58bd51",
   "metadata": {},
   "source": [
    "## Chapter 11: Matrix Operations"
   ]
  },
  {
   "cell_type": "code",
   "execution_count": 1,
   "id": "f21d7661-9f38-46c1-8f8a-ed61dfbdb01e",
   "metadata": {},
   "outputs": [],
   "source": [
    "import numpy as np "
   ]
  },
  {
   "cell_type": "markdown",
   "id": "a8f67e73-e4c3-4941-8375-ffb6622ebef5",
   "metadata": {},
   "source": [
    "$A^T$"
   ]
  },
  {
   "cell_type": "code",
   "execution_count": 3,
   "id": "7366df4f-102c-4c10-a342-0b64bb12c4b5",
   "metadata": {},
   "outputs": [
    {
     "data": {
      "text/plain": [
       "array([[1, 2],\n",
       "       [3, 4],\n",
       "       [5, 6]])"
      ]
     },
     "execution_count": 3,
     "metadata": {},
     "output_type": "execute_result"
    }
   ],
   "source": [
    "A = np.array([\n",
    "[1, 2],\n",
    "[3, 4],\n",
    "[5, 6]])\n",
    "A"
   ]
  },
  {
   "cell_type": "code",
   "execution_count": 4,
   "id": "63418dd0-c9c6-46d4-91f9-6c61b4a0bb47",
   "metadata": {},
   "outputs": [
    {
     "data": {
      "text/plain": [
       "array([[1, 3, 5],\n",
       "       [2, 4, 6]])"
      ]
     },
     "execution_count": 4,
     "metadata": {},
     "output_type": "execute_result"
    }
   ],
   "source": [
    "A.T"
   ]
  },
  {
   "cell_type": "markdown",
   "id": "d9b584ae-22ea-4a1a-9308-39ab4e697c97",
   "metadata": {},
   "source": [
    "$A^{-1}$"
   ]
  },
  {
   "cell_type": "code",
   "execution_count": 6,
   "id": "d77bc19d-77bb-4c2e-b9da-2c3b09ddb0e0",
   "metadata": {},
   "outputs": [
    {
     "data": {
      "text/plain": [
       "array([[1, 2],\n",
       "       [3, 4],\n",
       "       [5, 6]])"
      ]
     },
     "execution_count": 6,
     "metadata": {},
     "output_type": "execute_result"
    }
   ],
   "source": [
    "A"
   ]
  },
  {
   "cell_type": "code",
   "execution_count": 15,
   "id": "7bb9045c-4a09-4750-873b-fe48c76f5db6",
   "metadata": {},
   "outputs": [
    {
     "data": {
      "text/plain": [
       "array([[1, 2],\n",
       "       [3, 4]])"
      ]
     },
     "execution_count": 15,
     "metadata": {},
     "output_type": "execute_result"
    }
   ],
   "source": [
    "A = np.array([[1, 2],\n",
    "            [3, 4]])\n",
    "A"
   ]
  },
  {
   "cell_type": "code",
   "execution_count": 17,
   "id": "b5375faf-c806-4141-acad-a9fb6c5e84d8",
   "metadata": {},
   "outputs": [
    {
     "data": {
      "text/plain": [
       "array([[-2. ,  1. ],\n",
       "       [ 1.5, -0.5]])"
      ]
     },
     "execution_count": 17,
     "metadata": {},
     "output_type": "execute_result"
    }
   ],
   "source": [
    "B = np.linalg.inv(A)\n",
    "B"
   ]
  },
  {
   "cell_type": "code",
   "execution_count": 20,
   "id": "0999af6e-2cf3-4a6c-8e09-484e3b0c1912",
   "metadata": {},
   "outputs": [
    {
     "data": {
      "text/plain": [
       "array([[-2. ,  1. ],\n",
       "       [ 1.5, -0.5]])"
      ]
     },
     "execution_count": 20,
     "metadata": {},
     "output_type": "execute_result"
    }
   ],
   "source": [
    "B"
   ]
  },
  {
   "cell_type": "code",
   "execution_count": 19,
   "id": "50e18a2e-174b-420b-9ad7-4464c2b63966",
   "metadata": {},
   "outputs": [
    {
     "data": {
      "text/plain": [
       "True"
      ]
     },
     "execution_count": 19,
     "metadata": {},
     "output_type": "execute_result"
    }
   ],
   "source": [
    "np.allclose(A.dot(B), np.eye(2))"
   ]
  },
  {
   "cell_type": "markdown",
   "id": "dd6b50dc-662a-4e40-be63-55717a52b917",
   "metadata": {},
   "source": [
    "$Trace$: a trace of a square matrix is the sum of the values on the main diagonoal of the matrix (top-left to bottom-right). $tr(A)$"
   ]
  },
  {
   "cell_type": "code",
   "execution_count": 2,
   "id": "74a5712f-9445-468e-821d-1e8a8be1da73",
   "metadata": {},
   "outputs": [
    {
     "data": {
      "text/plain": [
       "15"
      ]
     },
     "execution_count": 2,
     "metadata": {},
     "output_type": "execute_result"
    }
   ],
   "source": [
    "A = np.array([[1,2,3],\n",
    "            [4, 5, 6],\n",
    "            [7, 8, 9]])\n",
    "np.trace(A)"
   ]
  },
  {
   "cell_type": "markdown",
   "id": "0b77074a-e7b6-4808-9434-ada0e026562e",
   "metadata": {},
   "source": [
    "**Determinant** of a square matrix is a scalar representation of the volume of the matrix. \n",
    "$$det(A)$$ or $$|A|$$"
   ]
  },
  {
   "cell_type": "code",
   "execution_count": 23,
   "id": "dfcd1c78-9dc7-436d-80c4-93841d4fd61c",
   "metadata": {},
   "outputs": [
    {
     "data": {
      "text/plain": [
       "array([[1, 2, 3],\n",
       "       [4, 5, 6],\n",
       "       [7, 8, 9]])"
      ]
     },
     "execution_count": 23,
     "metadata": {},
     "output_type": "execute_result"
    }
   ],
   "source": [
    "A"
   ]
  },
  {
   "cell_type": "code",
   "execution_count": 24,
   "id": "16f5b9a1-fae9-4ae7-9041-8c4140f39107",
   "metadata": {},
   "outputs": [
    {
     "data": {
      "text/plain": [
       "-9.51619735392994e-16"
      ]
     },
     "execution_count": 24,
     "metadata": {},
     "output_type": "execute_result"
    }
   ],
   "source": [
    "np.linalg.det(A)"
   ]
  },
  {
   "cell_type": "code",
   "execution_count": 26,
   "id": "6fa9b8ec-8946-4465-b689-870253213471",
   "metadata": {},
   "outputs": [
    {
     "data": {
      "text/plain": [
       "-2.0"
      ]
     },
     "execution_count": 26,
     "metadata": {},
     "output_type": "execute_result"
    }
   ],
   "source": [
    "m = np.array([[2, 1, -2],\n",
    "            [1, 0, 0],\n",
    "            [0, 1, 0]])\n",
    "\n",
    "np.linalg.det(m)"
   ]
  },
  {
   "cell_type": "markdown",
   "id": "01330a54-e265-4adb-bccd-5380247607a4",
   "metadata": {},
   "source": [
    "$Rank(A)$ the rank of a matrix is the estimate of the number of linearly independent rows or columns in a matrix"
   ]
  },
  {
   "cell_type": "code",
   "execution_count": 32,
   "id": "a3edc6ad-eed0-4e6a-8384-a89a37faae1e",
   "metadata": {},
   "outputs": [
    {
     "name": "stdout",
     "output_type": "stream",
     "text": [
      "[1 2 3]\n",
      "1\n",
      "[0 0 0 0 0]\n",
      "0\n"
     ]
    }
   ],
   "source": [
    "v = np.array([1, 2, 3])\n",
    "print(v)\n",
    "rank_v = np.linalg.matrix_rank(v)\n",
    "print(rank_v)\n",
    "\n",
    "# zero rank\n",
    "v2 = np.array([0,0,0,0,0])\n",
    "print(v2)\n",
    "vr2 = np.linalg.matrix_rank(v2)\n",
    "print(vr2)"
   ]
  },
  {
   "cell_type": "code",
   "execution_count": 33,
   "id": "572a9bea-f88e-4c26-ad9d-19e349b00d38",
   "metadata": {},
   "outputs": [
    {
     "name": "stdout",
     "output_type": "stream",
     "text": [
      "[[0 0]\n",
      " [0 0]]\n",
      "0\n",
      "[[1 2]\n",
      " [1 2]]\n",
      "1\n",
      "[[1 2]\n",
      " [3 4]]\n",
      "2\n"
     ]
    }
   ],
   "source": [
    "# matrix rank\n",
    "from numpy import array\n",
    "from numpy.linalg import matrix_rank\n",
    "# rank 0\n",
    "M0 = array([\n",
    "[0,0],\n",
    "[0,0]])\n",
    "print(M0)\n",
    "mr0 = matrix_rank(M0)\n",
    "print(mr0)\n",
    "# rank 1\n",
    "M1 = array([\n",
    "[1,2],\n",
    "[1,2]])\n",
    "print(M1)\n",
    "mr1 = matrix_rank(M1)\n",
    "print(mr1)\n",
    "# rank 2\n",
    "M2 = array([\n",
    "[1,2],\n",
    "[3,4]])\n",
    "print(M2)\n",
    "mr2 = matrix_rank(M2)\n",
    "print(mr2)"
   ]
  },
  {
   "cell_type": "markdown",
   "id": "f0e4a192-70b8-4c3a-a182-c7146ecda48d",
   "metadata": {},
   "source": [
    "## Chapter 12: Sparse Matrices"
   ]
  },
  {
   "cell_type": "markdown",
   "id": "d1fe8106-109c-4270-87a1-dafdfa9c461f",
   "metadata": {},
   "source": [
    "Matrix contians a lot of zeros is called a *Sparse* matrix. \n",
    "\n",
    "Matrix contains a lot one non-zero values is called a *Dense* matrix. \n",
    "\n",
    "Sparsity of a matrix can be quantified with a score, which is the number of zero values in the matrixdivided by the total number of elements in the matrix \n",
    "\n",
    "$$Sparsity = \\frac{count of non-zero elements} {total elements}$$"
   ]
  },
  {
   "cell_type": "markdown",
   "id": "d38ae34a-ab06-4ea0-9f49-af9ada479f3b",
   "metadata": {},
   "source": [
    "### Problems with Sparsity \n",
    "Sparse matrices can cause problems with regards to space and time complexity."
   ]
  },
  {
   "cell_type": "markdown",
   "id": "c6343646-c300-429f-8c1b-e7b4929fcf60",
   "metadata": {},
   "source": [
    "#### 1. Space complexity \n",
    "\n",
    "very large matrices require a lot of memory, and somevery large martices that we wish to work ith are sparse.\n",
    "\n",
    "The problem with representing these sparse matrices as dense matrices is that memory is required\n",
    "and must be allocated for each 32-bit or even 64-bit zero value in the matrix. This is clearly a\n",
    "waste of memory resources as those zero values do not contain any information."
   ]
  },
  {
   "cell_type": "markdown",
   "id": "8b7f1f8a-3709-41c7-87d0-f2bb63a1af7f",
   "metadata": {},
   "source": [
    "### 2. Time Complexity\n",
    "\n",
    "Assuming a very large sparse matrix can be fit into memory, we will want to perform operations\n",
    "on this matrix. Simply, if the matrix contains mostly zero-values, i.e. no data, then performing\n",
    "operations across this matrix may take a long time where the bulk of the computation performed\n",
    "will involve adding or multiplying zero values together.\n",
    "\n",
    "It is wasteful to use general methods of linear algebra on such problems, because\n",
    "most of the $O(N^3)$ arithmetic operations devoted to solving the set of equations or\n",
    "inverting the matrix involve zero operands."
   ]
  },
  {
   "cell_type": "markdown",
   "id": "76da82bb-dbd5-4813-8de5-926c85f6db3f",
   "metadata": {},
   "source": [
    "#### Working with Sparese Matrices \n",
    "\n",
    "One solution to representing and working with sparse matrices is to tuse an alternate data structure to represent the sparse data. The zero values can be ignored and only the data or non-zero values in the sparse matrix need to be stored or acted upon. \n",
    "\n",
    "* Dictionnay of keys\n",
    "* list of lists\n",
    "* Coorniate list \n",
    "\n",
    "There are also two more suitable and efficient operations\n",
    "\n",
    "* **Compressed Sparse Row:** The sparse matrix is represented using three one-dimensional arrays for the non-zero values, the extents of the rows, and the column indexes.\n",
    "* **Compressed Sparese Column:** The same as the Compressed Sparse Row method except the column indices are compressed and read first before the row indices."
   ]
  },
  {
   "cell_type": "code",
   "execution_count": 10,
   "id": "8a8e14b3-ead6-4d42-9a46-ae730451287a",
   "metadata": {},
   "outputs": [
    {
     "name": "stdout",
     "output_type": "stream",
     "text": [
      "[[1 0 0 1 0 0]\n",
      " [0 0 2 0 0 1]\n",
      " [0 0 0 2 0 0]] \n",
      "\n",
      "  (0, 0)\t1\n",
      "  (0, 3)\t1\n",
      "  (1, 2)\t2\n",
      "  (1, 5)\t1\n",
      "  (2, 3)\t2 \n",
      "\n",
      "[[1 0 0 1 0 0]\n",
      " [0 0 2 0 0 1]\n",
      " [0 0 0 2 0 0]]\n"
     ]
    }
   ],
   "source": [
    "import numpy as np \n",
    "from scipy.sparse import csr_matrix \n",
    "\n",
    "# create the dense matrix \n",
    "\n",
    "A = np.array([[1, 0,0, 1, 0, 0],\n",
    "             [0, 0, 2, 0, 0, 1],\n",
    "             [0, 0, 0, 2, 0, 0]])\n",
    "print(A, '\\n')\n",
    "\n",
    "# convet sparse matric into CSR \n",
    "\n",
    "S = csr_matrix(A)\n",
    "\n",
    "print(S, '\\n')\n",
    "\n",
    "# convert back the CSR matrix into dense matrix \n",
    "\n",
    "B = S.todense()\n",
    "print(B)"
   ]
  },
  {
   "cell_type": "code",
   "execution_count": 12,
   "id": "64fcc74f-0e0d-426c-be4f-833c81b9c929",
   "metadata": {},
   "outputs": [
    {
     "data": {
      "text/plain": [
       "0.7222222222222222"
      ]
     },
     "execution_count": 12,
     "metadata": {},
     "output_type": "execute_result"
    }
   ],
   "source": [
    "sparcity = 1 - np.count_nonzero(A) / A.size\n",
    "sparcity"
   ]
  },
  {
   "cell_type": "code",
   "execution_count": 18,
   "id": "42c3a418-3791-4bfb-b90a-f26491f40498",
   "metadata": {},
   "outputs": [
    {
     "data": {
      "text/plain": [
       "18"
      ]
     },
     "execution_count": 18,
     "metadata": {},
     "output_type": "execute_result"
    }
   ],
   "source": [
    "A.size"
   ]
  },
  {
   "cell_type": "markdown",
   "id": "24fa344b-d450-430e-b667-75707e8c86f3",
   "metadata": {},
   "source": [
    "## Chapter 13\n",
    "## Tensors and Tensor Arithmetic "
   ]
  },
  {
   "cell_type": "code",
   "execution_count": 4,
   "id": "36064a42-d100-4110-9225-0fe116e696ca",
   "metadata": {},
   "outputs": [
    {
     "name": "stdout",
     "output_type": "stream",
     "text": [
      "(3, 3, 3)\n",
      "\n",
      "[[[ 1  2  3]\n",
      "  [ 4  5  6]\n",
      "  [ 7  8  9]]\n",
      "\n",
      " [[11 12 13]\n",
      "  [14 15 16]\n",
      "  [17 18 19]]\n",
      "\n",
      " [[21 22 23]\n",
      "  [24 25 26]\n",
      "  [27 28 29]]]\n"
     ]
    }
   ],
   "source": [
    "T = np.array([[[1,2,3], [4,5,6], [7,8,9]],\n",
    "[[11,12,13], [14,15,16], [17,18,19]],\n",
    "[[21,22,23], [24,25,26], [27,28,29]]])\n",
    "print(T.shape)\n",
    "print()\n",
    "print(T)"
   ]
  },
  {
   "cell_type": "code",
   "execution_count": 5,
   "id": "ed1e18ab-4500-4219-803e-0609ed8e8216",
   "metadata": {},
   "outputs": [
    {
     "data": {
      "text/plain": [
       "3"
      ]
     },
     "execution_count": 5,
     "metadata": {},
     "output_type": "execute_result"
    }
   ],
   "source": [
    "T.ndim"
   ]
  },
  {
   "cell_type": "code",
   "execution_count": 6,
   "id": "2d3aafa1-6688-4c5e-94b9-9a9d4d393e3d",
   "metadata": {},
   "outputs": [
    {
     "data": {
      "text/plain": [
       "27"
      ]
     },
     "execution_count": 6,
     "metadata": {},
     "output_type": "execute_result"
    }
   ],
   "source": [
    "T.size"
   ]
  },
  {
   "cell_type": "code",
   "execution_count": 14,
   "id": "f50c7b23-5fbd-477f-97b7-84007249eeb7",
   "metadata": {},
   "outputs": [
    {
     "name": "stdout",
     "output_type": "stream",
     "text": [
      "A is \n",
      " [[[ 1  2  3]\n",
      "  [ 4  5  6]\n",
      "  [ 7  8  9]]\n",
      "\n",
      " [[11 12 13]\n",
      "  [14 15 16]\n",
      "  [17 18 19]]\n",
      "\n",
      " [[21 22 23]\n",
      "  [24 25 26]\n",
      "  [27 28 29]]]\n",
      "B is: \n",
      " [[[ 1  2  3]\n",
      "  [ 4  5  6]\n",
      "  [ 7  8  9]]\n",
      "\n",
      " [[11 12 13]\n",
      "  [14 15 16]\n",
      "  [17 18 19]]\n",
      "\n",
      " [[21 22 23]\n",
      "  [24 25 26]\n",
      "  [27 28 29]]]\n",
      "C is: \n",
      " [[[ 2  4  6]\n",
      "  [ 8 10 12]\n",
      "  [14 16 18]]\n",
      "\n",
      " [[22 24 26]\n",
      "  [28 30 32]\n",
      "  [34 36 38]]\n",
      "\n",
      " [[42 44 46]\n",
      "  [48 50 52]\n",
      "  [54 56 58]]]\n"
     ]
    }
   ],
   "source": [
    "# tensor addition\n",
    "from numpy import array\n",
    "# define first tensor\n",
    "A = array([\n",
    "[[1,2,3], [4,5,6], [7,8,9]],\n",
    "[[11,12,13], [14,15,16], [17,18,19]],\n",
    "[[21,22,23], [24,25,26], [27,28,29]]])\n",
    "print( \"A is \\n\",A)\n",
    "# define second tensor\n",
    "B = array([\n",
    "[[1,2,3], [4,5,6], [7,8,9]],\n",
    "[[11,12,13], [14,15,16], [17,18,19]],\n",
    "[[21,22,23], [24,25,26], [27,28,29]]])\n",
    "print(\"B is: \\n\", B)\n",
    "# add tensors\n",
    "C = A + B\n",
    "print(\"C is: \\n\", C)"
   ]
  },
  {
   "cell_type": "code",
   "execution_count": 15,
   "id": "fbbfc056-9b03-4e78-8ca8-678c67597620",
   "metadata": {},
   "outputs": [
    {
     "name": "stdout",
     "output_type": "stream",
     "text": [
      "[[[0 0 0]\n",
      "  [0 0 0]\n",
      "  [0 0 0]]\n",
      "\n",
      " [[0 0 0]\n",
      "  [0 0 0]\n",
      "  [0 0 0]]\n",
      "\n",
      " [[0 0 0]\n",
      "  [0 0 0]\n",
      "  [0 0 0]]]\n"
     ]
    }
   ],
   "source": [
    "#  tensor subtraction\n",
    "from numpy import array\n",
    "# define first tensor\n",
    "A = array([\n",
    "[[1,2,3], [4,5,6], [7,8,9]],\n",
    "[[11,12,13], [14,15,16], [17,18,19]],\n",
    "[[21,22,23], [24,25,26], [27,28,29]]])\n",
    "# define second tensor\n",
    "B = array([\n",
    "[[1,2,3], [4,5,6], [7,8,9]],\n",
    "[[11,12,13], [14,15,16], [17,18,19]],\n",
    "[[21,22,23], [24,25,26], [27,28,29]]])\n",
    "# subtract tensors\n",
    "C = A - B\n",
    "print(C)\n"
   ]
  },
  {
   "cell_type": "markdown",
   "id": "266b5ae5-cacc-403f-92a9-8feadae9c054",
   "metadata": {},
   "source": [
    "### Tensor Hadmard Product (element-wise multiplication)"
   ]
  },
  {
   "cell_type": "code",
   "execution_count": 17,
   "id": "b7247320-31f2-422d-b5f5-d521d543a498",
   "metadata": {},
   "outputs": [
    {
     "name": "stdout",
     "output_type": "stream",
     "text": [
      "this is A: \n",
      " [[[ 1  2  3]\n",
      "  [ 4  5  6]\n",
      "  [ 7  8  9]]\n",
      "\n",
      " [[11 12 13]\n",
      "  [14 15 16]\n",
      "  [17 18 19]]\n",
      "\n",
      " [[21 22 23]\n",
      "  [24 25 26]\n",
      "  [27 28 29]]]\n",
      "this is B: \n",
      " [[[ 1  2  3]\n",
      "  [ 4  5  6]\n",
      "  [ 7  8  9]]\n",
      "\n",
      " [[11 12 13]\n",
      "  [14 15 16]\n",
      "  [17 18 19]]\n",
      "\n",
      " [[21 22 23]\n",
      "  [24 25 26]\n",
      "  [27 28 29]]]\n",
      "This is C: \n",
      " [[[  1   4   9]\n",
      "  [ 16  25  36]\n",
      "  [ 49  64  81]]\n",
      "\n",
      " [[121 144 169]\n",
      "  [196 225 256]\n",
      "  [289 324 361]]\n",
      "\n",
      " [[441 484 529]\n",
      "  [576 625 676]\n",
      "  [729 784 841]]]\n"
     ]
    }
   ],
   "source": [
    "# tensor Hadamard product\n",
    "from numpy import array\n",
    "# define first tensor\n",
    "A = array([\n",
    "[[1,2,3], [4,5,6], [7,8,9]],\n",
    "[[11,12,13], [14,15,16], [17,18,19]],\n",
    "[[21,22,23], [24,25,26], [27,28,29]]])\n",
    "print(\"this is A: \\n\", A)\n",
    "# define second tensor\n",
    "B = array([\n",
    "[[1,2,3], [4,5,6], [7,8,9]],\n",
    "[[11,12,13], [14,15,16], [17,18,19]],\n",
    "[[21,22,23], [24,25,26], [27,28,29]]])\n",
    "print(\"this is B: \\n\", B)\n",
    "# multiply tensors\n",
    "C = A * B\n",
    "print(\"This is C: \\n\",C)"
   ]
  },
  {
   "cell_type": "markdown",
   "id": "4f170fda-308f-4a18-9a5f-187d706e2caa",
   "metadata": {},
   "source": [
    "### Tensor Product "
   ]
  },
  {
   "cell_type": "markdown",
   "id": "2129faab-0f12-4650-a30a-594ece74cc00",
   "metadata": {},
   "source": [
    "The tensor product operator is often denotaed as a cicle with a small $x$ in the middle. Given a tensor $A$ with $q$ dimensions and tensor $B$ with $r$ dimensions. The product of these tensors will be a new tensor with the order of $q + r$ or $q+r$ dimension. "
   ]
  },
  {
   "cell_type": "markdown",
   "id": "ad65eecf-3ece-49c0-ab9c-da1f2859eccd",
   "metadata": {},
   "source": [
    "#### Tensor Product for vectors "
   ]
  },
  {
   "cell_type": "code",
   "execution_count": 26,
   "id": "89074cad-5a81-493b-8148-e2b540ab2493",
   "metadata": {},
   "outputs": [
    {
     "name": "stdout",
     "output_type": "stream",
     "text": [
      "[[3 4]\n",
      " [6 8]]\n"
     ]
    }
   ],
   "source": [
    "# tensor product\n",
    "from numpy import array\n",
    "from numpy import tensordot\n",
    "# define first vector\n",
    "A = array([1,2])\n",
    "# define second vector\n",
    "B = array([3,4])\n",
    "# calculate tensor product\n",
    "C = tensordot(A, B, axes=0)\n",
    "print(C)"
   ]
  },
  {
   "cell_type": "code",
   "execution_count": 20,
   "id": "892b1b95-6e1c-408d-94f3-6911bee19684",
   "metadata": {},
   "outputs": [
    {
     "data": {
      "text/plain": [
       "2"
      ]
     },
     "execution_count": 20,
     "metadata": {},
     "output_type": "execute_result"
    }
   ],
   "source": [
    "A.ndim + B.ndim"
   ]
  },
  {
   "cell_type": "markdown",
   "id": "9614dc61-6588-48a0-90ff-f428e418860b",
   "metadata": {},
   "source": [
    "# Part V \n",
    "## Chapter 14\n",
    "## Matrix Decompistion (matrix factorization)"
   ]
  },
  {
   "cell_type": "markdown",
   "id": "3cf5ec3a-b9a5-47a5-8604-83f20c69f3d2",
   "metadata": {},
   "source": [
    "- LU demcompisition \n",
    "- QR decomposition \n",
    "- Chelesky decomposition "
   ]
  },
  {
   "cell_type": "markdown",
   "id": "c9159618-50d3-4116-bffc-ef99ba52cf5c",
   "metadata": {},
   "source": [
    "**Matrix decomposition**: Matrix decomposition is a way of redycing a matrix into its constituent parts. It is an approach for simplifaying matrix operations on complex matrices. A common analogy for matrix decomposition is the factoring of numbers, such as $2 x 5$ is $10$. For this, matrix decomposition is called matrix factorization. "
   ]
  },
  {
   "cell_type": "markdown",
   "id": "6cd71d9c-8410-4815-bc89-bca43469d578",
   "metadata": {},
   "source": [
    "### LU decomposition "
   ]
  },
  {
   "cell_type": "markdown",
   "id": "501fa279-6613-459f-bc03-a50eaf35044a",
   "metadata": {},
   "source": [
    "LU decomosition is for squared matrices, and it decomposes a matrix $A$ into two components $L$ and $U$ $$A = L x U$$\n",
    "\n",
    "where: \n",
    "\n",
    "$A$: Matrix we want to decompose \n",
    "\n",
    "$L$: Lower triagle matrix \n",
    "\n",
    "$U$: Upper triangle matrix \n",
    "\n",
    "The factors $L$ and $U$ are triangle matrices."
   ]
  },
  {
   "cell_type": "code",
   "execution_count": 8,
   "id": "e35ca7d4-6ce8-4005-aae2-f804b8d2b6c0",
   "metadata": {},
   "outputs": [
    {
     "name": "stdout",
     "output_type": "stream",
     "text": [
      "[[1 2 3]\n",
      " [4 5 6]\n",
      " [7 8 9]] \n",
      "\n",
      "[[0. 1. 0.]\n",
      " [0. 0. 1.]\n",
      " [1. 0. 0.]] \n",
      "\n",
      "[[1.         0.         0.        ]\n",
      " [0.14285714 1.         0.        ]\n",
      " [0.57142857 0.5        1.        ]] \n",
      "\n",
      "[[ 7.00000000e+00  8.00000000e+00  9.00000000e+00]\n",
      " [ 0.00000000e+00  8.57142857e-01  1.71428571e+00]\n",
      " [ 0.00000000e+00  0.00000000e+00 -1.58603289e-16]] \n",
      "\n"
     ]
    }
   ],
   "source": [
    "# LU decomposition\n",
    "from numpy import array\n",
    "from scipy.linalg import lu\n",
    "# define a square matrix\n",
    "A = np.array([\n",
    "[1, 2, 3],\n",
    "[4, 5, 6],\n",
    "[7, 8, 9]])\n",
    "print(A, '\\n')\n",
    "# factorize\n",
    "# P matrix specifies a way to permute the result or return the result to the original order.\n",
    "P, L, U = lu(A)\n",
    "print(P, '\\n')\n",
    "print(L, '\\n')\n",
    "print(U, '\\n')"
   ]
  },
  {
   "cell_type": "code",
   "execution_count": 14,
   "id": "479659df-6c07-4b4d-9114-624690971776",
   "metadata": {},
   "outputs": [
    {
     "data": {
      "text/plain": [
       "array([[1., 2., 3.],\n",
       "       [4., 5., 6.],\n",
       "       [7., 8., 9.]])"
      ]
     },
     "execution_count": 14,
     "metadata": {},
     "output_type": "execute_result"
    }
   ],
   "source": [
    "# reconstructing the original matrix\n",
    "P.dot(L).dot(U)"
   ]
  },
  {
   "cell_type": "markdown",
   "id": "6337e9aa-289a-47d6-9cb6-df95fedd4932",
   "metadata": {},
   "source": [
    "### QR decomposition \n",
    "\n",
    "QR decomposition is for $m x n$ matrices (not limited to square matrice only) and decompises a matrix into $Q$ nd $R$ compenents. "
   ]
  },
  {
   "cell_type": "code",
   "execution_count": 18,
   "id": "99675a67-19c5-4777-baab-01a4902b5fa0",
   "metadata": {},
   "outputs": [
    {
     "name": "stdout",
     "output_type": "stream",
     "text": [
      "[[1 2]\n",
      " [3 4]\n",
      " [5 6]]\n",
      "\n",
      "[[-0.16903085  0.89708523  0.40824829]\n",
      " [-0.50709255  0.27602622 -0.81649658]\n",
      " [-0.84515425 -0.34503278  0.40824829]]\n",
      "\n",
      "[[-5.91607978 -7.43735744]\n",
      " [ 0.          0.82807867]\n",
      " [ 0.          0.        ]]\n",
      "\n",
      "[[1. 2.]\n",
      " [3. 4.]\n",
      " [5. 6.]]\n"
     ]
    }
   ],
   "source": [
    "# define rectangular matrix\n",
    "A = np.array([\n",
    "[1, 2],\n",
    "[3, 4],\n",
    "[5, 6]])\n",
    "print(A)\n",
    "print()\n",
    "# factorize\n",
    "Q, R = np.linalg.qr(A, 'complete')\n",
    "print(Q)\n",
    "print()\n",
    "print(R)\n",
    "print()\n",
    "# reconstruct\n",
    "B = Q.dot(R)\n",
    "print(B)"
   ]
  },
  {
   "cell_type": "markdown",
   "id": "d429ca86-6f1d-43cc-bb16-4df9d3594268",
   "metadata": {},
   "source": [
    "### Cholesky decomposition \n",
    "\n",
    "Cholesky decompotisiton technique is for square symmteric matrices where all the values are greater than zero. so-called positive definite matrices. $$A = L x L^T$$\n",
    "\n",
    "where: \n",
    "\n",
    "$L$ lower triangle matrix \n",
    "$L^t$ is the transpose of $L$\n",
    "\n",
    "It can also be written as: $$A = U x U^T$$"
   ]
  },
  {
   "cell_type": "code",
   "execution_count": 19,
   "id": "114f6499-6dfe-4717-b24f-17e23f462c55",
   "metadata": {},
   "outputs": [
    {
     "name": "stdout",
     "output_type": "stream",
     "text": [
      "[[2 1 1]\n",
      " [1 2 1]\n",
      " [1 1 2]]\n",
      "[[1.41421356 0.         0.        ]\n",
      " [0.70710678 1.22474487 0.        ]\n",
      " [0.70710678 0.40824829 1.15470054]]\n",
      "[[2. 1. 1.]\n",
      " [1. 2. 1.]\n",
      " [1. 1. 2.]]\n"
     ]
    }
   ],
   "source": [
    "# Cholesky decomposition\n",
    "from numpy import array\n",
    "from numpy.linalg import cholesky\n",
    "# define symmetrical matrix\n",
    "A = array([\n",
    "[2, 1, 1],\n",
    "[1, 2, 1],\n",
    "[1, 1, 2]])\n",
    "print(A)\n",
    "# factorize\n",
    "L = cholesky(A)\n",
    "print(L)\n",
    "# reconstruct\n",
    "B = L.dot(L.T)\n",
    "print(B)"
   ]
  },
  {
   "cell_type": "markdown",
   "id": "359b824e-d248-4914-a79e-574d8255c65c",
   "metadata": {},
   "source": [
    "### Chapter 15 \n",
    "\n",
    "### Eigendecompistion "
   ]
  },
  {
   "cell_type": "markdown",
   "id": "098546ce-d24b-4dc3-98e0-ce998cc30821",
   "metadata": {},
   "source": [
    "Matrix decompositions are useful tool for reducing a matrix to thier constituent parts in order to simplify a range of more complex operations. Perhapes the most used type of matrix decompostion is eigendecomposition that decomposes a matrix into eigenvectors and eigenvalues. Such techniques are used in Principal Component Analysis (PCA)."
   ]
  },
  {
   "cell_type": "markdown",
   "id": "e8dfd1aa-bc35-4ba1-95f1-561b423cd006",
   "metadata": {},
   "source": [
    "#### Eigendecomposition of a matrix \n",
    "\n",
    "Is a type of decomposition that involes decomposing a square matrix into a set of eigenvectors and eignevalues. \n",
    "\n",
    "A vector is an eigenvector of a matrix if it satisfies the following equation. $$A.v = \\lambda . v $$ A matrix could have one eigenvector and eigenvalue for each dimension of the parent matrix.\n",
    "Not all square matrices can be decomposed into eigenvectors and eigenvalues, and some can\n",
    "only be decomposed in a way that requires complex numbers. The parent matrix can be shown\n",
    "to be a product of the eigenvectors and eigenvalues. $$A = Q. \\Lambda . Q^T$$\n",
    "Where $Q$ is a matrix comprised of the eigenvectors, $\\Lambda$ is the uppercase Greek letter lambda\n",
    "and is the diagonal matrix comprised of the eigenvalues, and $Q^T$\n",
    "is the transpose of the matrix\n",
    "comprised of the eigenvectors."
   ]
  },
  {
   "cell_type": "markdown",
   "id": "f103d960-4b29-4649-a0e3-99cec89fa33b",
   "metadata": {},
   "source": [
    "#### Eigenvectors and Eigenvalues\n",
    "\n",
    "theu are unit vectors, which means that their length or magnitude is equal to $1.0$, they are often referred as right vectors. Eigenvalues are coefficients that are applied to eigenvalues that ive the vectors thier magnitude.  A matrix\n",
    "that has only positive eigenvalues is referred to as a positive definite matrix, whereas if the\n",
    "eigenvalues are all negative, it is referred to as a negative definite matrix.\n",
    "\n"
   ]
  },
  {
   "cell_type": "code",
   "execution_count": 3,
   "id": "10b210b2-41e5-4d10-b3d5-a10982bd0243",
   "metadata": {},
   "outputs": [
    {
     "name": "stdout",
     "output_type": "stream",
     "text": [
      "[[1 2 3]\n",
      " [4 5 6]\n",
      " [7 8 9]]\n"
     ]
    }
   ],
   "source": [
    "# eigendecomposition\n",
    "from numpy import array\n",
    "from numpy.linalg import eig\n",
    "# define matrix\n",
    "A = array([\n",
    "[1, 2, 3],\n",
    "[4, 5, 6],\n",
    "[7, 8, 9]])\n",
    "print(A)\n",
    "# factorize\n",
    "values, vectors = eig(A)"
   ]
  },
  {
   "cell_type": "code",
   "execution_count": 4,
   "id": "2176cde3-9afe-47e5-8f88-27b7e7b911c0",
   "metadata": {},
   "outputs": [
    {
     "name": "stdout",
     "output_type": "stream",
     "text": [
      "[ 1.61168440e+01 -1.11684397e+00 -3.38433605e-16]\n",
      "\n",
      "[[-0.23197069 -0.78583024  0.40824829]\n",
      " [-0.52532209 -0.08675134 -0.81649658]\n",
      " [-0.8186735   0.61232756  0.40824829]]\n"
     ]
    }
   ],
   "source": [
    "print(values)\n",
    "print()\n",
    "print(vectors)"
   ]
  },
  {
   "cell_type": "code",
   "execution_count": 5,
   "id": "402dbc40-566b-4c94-bcb0-eaa61abbe234",
   "metadata": {},
   "outputs": [
    {
     "name": "stdout",
     "output_type": "stream",
     "text": [
      "[ -3.73863537  -8.46653421 -13.19443305]\n",
      "[ -3.73863537  -8.46653421 -13.19443305]\n"
     ]
    }
   ],
   "source": [
    "# confirm eigenvector\n",
    "from numpy import array\n",
    "from numpy.linalg import eig\n",
    "# define matrix\n",
    "A = array([\n",
    "[1, 2, 3],\n",
    "[4, 5, 6],\n",
    "[7, 8, 9]])\n",
    "# factorize\n",
    "values, vectors = eig(A)\n",
    "# confirm first eigenvector\n",
    "B = A.dot(vectors[:, 0])\n",
    "print(B)\n",
    "C = vectors[:, 0] * values[0]\n",
    "print(C)\n"
   ]
  },
  {
   "cell_type": "markdown",
   "id": "4ed1c911-5d05-4a39-b4a9-b4d754340c98",
   "metadata": {},
   "source": [
    "#### Reconstruct a matrix "
   ]
  },
  {
   "cell_type": "code",
   "execution_count": 6,
   "id": "6b3ecb94-4b80-4e0a-bf31-c82dcb341dec",
   "metadata": {},
   "outputs": [
    {
     "name": "stdout",
     "output_type": "stream",
     "text": [
      "[[1 2 3]\n",
      " [4 5 6]\n",
      " [7 8 9]]\n",
      "[[1. 2. 3.]\n",
      " [4. 5. 6.]\n",
      " [7. 8. 9.]]\n"
     ]
    }
   ],
   "source": [
    "# reconstruct matrix\n",
    "from numpy import diag\n",
    "from numpy.linalg import inv\n",
    "from numpy import array\n",
    "from numpy.linalg import eig\n",
    "# define matrix\n",
    "A = array([\n",
    "[1, 2, 3],\n",
    "[4, 5, 6],\n",
    "[7, 8, 9]])\n",
    "print(A)\n",
    "# factorize\n",
    "values, vectors = eig(A)\n",
    "# create matrix from eigenvectors\n",
    "Q = vectors\n",
    "# create inverse of eigenvectors matrix\n",
    "R = inv(Q)\n",
    "# create diagonal matrix from eigenvalues\n",
    "L = diag(values)\n",
    "# reconstruct the original matrix\n",
    "B = Q.dot(L).dot(R)\n",
    "print(B)"
   ]
  },
  {
   "cell_type": "code",
   "execution_count": 7,
   "id": "c7f82efa-ae45-4662-8699-fe9dbb0562f0",
   "metadata": {},
   "outputs": [
    {
     "data": {
      "text/plain": [
       "array([[ 1.61168440e+01,  0.00000000e+00,  0.00000000e+00],\n",
       "       [ 0.00000000e+00, -1.11684397e+00,  0.00000000e+00],\n",
       "       [ 0.00000000e+00,  0.00000000e+00, -3.38433605e-16]])"
      ]
     },
     "execution_count": 7,
     "metadata": {},
     "output_type": "execute_result"
    }
   ],
   "source": [
    "L"
   ]
  },
  {
   "cell_type": "markdown",
   "id": "3faec051-2854-4a17-9904-2bad894a91c0",
   "metadata": {},
   "source": [
    "## Chapiter 16 \n",
    "## Singular Value Decompistion "
   ]
  },
  {
   "cell_type": "markdown",
   "id": "f9e14596-f73e-46c7-9a4d-9aff2643c26b",
   "metadata": {},
   "source": [
    "Matrix decomposition is also known as matrix factorization, involes describing a given matrix using its consituent elements. The most well known matrix decomposition is Singular-Value Decomposition or SVD. all matrix have SVD which makes it more stable than other methods, such as eignendecomposition. SVD is it used for: compressing, denoisingn and data reduction. "
   ]
  },
  {
   "cell_type": "markdown",
   "id": "2a0472ba-77a0-4ab7-ac5b-41b9a82ce68a",
   "metadata": {},
   "source": [
    "### What is Singular-Value Decomposition \n",
    "\n",
    "SVD is a matrix decompitiosn method for reducing a matrix into its consitituent parts in order to make certian subsequent matrix calculations simpler. \n",
    "\n",
    "$$A = u . \\sum . V^T$$\n",
    "\n",
    "where A is real $n x m $ matrix, that we wish to decompose, $U$ is an $m . m $ matrix, $\\sum$ represented by the upper case letter Greek letter sigma is an $m . n$ diagonal matrix, and $V^T$ is the $V$ transpose of an $n . n$ matrix.  \n",
    "\n",
    "SVD is a highlight of linear algebra. It provides another way to factorize a matrix into singular vectors and singular values. The SVD llows us to deiscover some of the same kind of information as the eigendecomposition. However, the SVD is more generally applicable. "
   ]
  },
  {
   "cell_type": "markdown",
   "id": "6de729a0-27b3-46ba-9eb2-a746b6996816",
   "metadata": {},
   "source": [
    "### Calculate Singular-Value Decomposition "
   ]
  },
  {
   "cell_type": "code",
   "execution_count": 1,
   "id": "56909d8c-e7af-41f9-a473-5f92045d98e9",
   "metadata": {},
   "outputs": [
    {
     "name": "stdout",
     "output_type": "stream",
     "text": [
      "[[1 2]\n",
      " [3 4]\n",
      " [5 6]] \n",
      "\n",
      "[[-0.2298477   0.88346102  0.40824829]\n",
      " [-0.52474482  0.24078249 -0.81649658]\n",
      " [-0.81964194 -0.40189603  0.40824829]] \n",
      "\n",
      "[9.52551809 0.51430058] \n",
      "\n",
      "[[-0.61962948 -0.78489445]\n",
      " [-0.78489445  0.61962948]] \n",
      "\n"
     ]
    }
   ],
   "source": [
    "import numpy as np \n",
    "from scipy.linalg import svd \n",
    "\n",
    "# define a matrix \n",
    "\n",
    "A = np.array([[1,2],\n",
    "            [3,4],\n",
    "            [5,6]])\n",
    "print(A, '\\n')\n",
    "\n",
    "# factorize \n",
    "U, s, V = svd(A)\n",
    "print(U, '\\n')\n",
    "print(s, '\\n')\n",
    "print(V, '\\n')"
   ]
  },
  {
   "cell_type": "markdown",
   "id": "2dd8cfed-0ea1-4a4d-a2b5-ab158b1521f8",
   "metadata": {},
   "source": [
    "### Reconstruct a matrix \n",
    "\n",
    "$$U(m.m). \\sum (m.m) . V^T (n.n)$$"
   ]
  },
  {
   "cell_type": "code",
   "execution_count": 3,
   "id": "5d0c1c0d-45a3-4e93-8e24-848a2af50a94",
   "metadata": {},
   "outputs": [
    {
     "name": "stdout",
     "output_type": "stream",
     "text": [
      "[[1 2]\n",
      " [3 4]\n",
      " [5 6]]\n",
      "[[1. 2.]\n",
      " [3. 4.]\n",
      " [5. 6.]]\n"
     ]
    }
   ],
   "source": [
    "# reconstruct rectangular matrix from svd\n",
    "from numpy import array\n",
    "from numpy import diag\n",
    "from numpy import zeros\n",
    "from scipy.linalg import svd\n",
    "# define matrix\n",
    "A = array([\n",
    "[1, 2],\n",
    "[3, 4],\n",
    "[5, 6]])\n",
    "print(A)\n",
    "# factorize\n",
    "U, s, V = svd(A)\n",
    "# create m x n Sigma matrix\n",
    "Sigma = zeros((A.shape[0], A.shape[1]))\n",
    "# populate Sigma with n x n diagonal matrix\n",
    "Sigma[:A.shape[1], :A.shape[1]] = diag(s)\n",
    "# reconstruct matrix\n",
    "B = U.dot(Sigma.dot(V))\n",
    "print(B)"
   ]
  },
  {
   "cell_type": "code",
   "execution_count": 29,
   "id": "7e8edd44-2098-47d5-be24-7c0e7297520d",
   "metadata": {},
   "outputs": [],
   "source": [
    "Sigma = zeros(A.shape)"
   ]
  },
  {
   "cell_type": "code",
   "execution_count": 30,
   "id": "f2025b1e-95d9-4340-a57a-95afef2fba98",
   "metadata": {},
   "outputs": [
    {
     "data": {
      "text/plain": [
       "array([[0., 0.],\n",
       "       [0., 0.],\n",
       "       [0., 0.]])"
      ]
     },
     "execution_count": 30,
     "metadata": {},
     "output_type": "execute_result"
    }
   ],
   "source": [
    "Sigma"
   ]
  },
  {
   "cell_type": "code",
   "execution_count": 35,
   "id": "27a82727-fe04-47c4-867d-ed72610121c4",
   "metadata": {},
   "outputs": [
    {
     "data": {
      "text/plain": [
       "array([[9.52551809, 0.        ],\n",
       "       [0.        , 0.51430058]])"
      ]
     },
     "execution_count": 35,
     "metadata": {},
     "output_type": "execute_result"
    }
   ],
   "source": [
    "diag(s)"
   ]
  },
  {
   "cell_type": "code",
   "execution_count": 32,
   "id": "538a7f6e-759b-4f9c-acc1-15befec1889c",
   "metadata": {},
   "outputs": [
    {
     "data": {
      "text/plain": [
       "(3, 3)"
      ]
     },
     "execution_count": 32,
     "metadata": {},
     "output_type": "execute_result"
    }
   ],
   "source": [
    "U.shape"
   ]
  },
  {
   "cell_type": "code",
   "execution_count": 33,
   "id": "0340cea4-3ec1-4ff0-90e4-ed1f6372242b",
   "metadata": {},
   "outputs": [
    {
     "data": {
      "text/plain": [
       "(2,)"
      ]
     },
     "execution_count": 33,
     "metadata": {},
     "output_type": "execute_result"
    }
   ],
   "source": [
    "s.shape"
   ]
  },
  {
   "cell_type": "code",
   "execution_count": 39,
   "id": "b3c7492c-a53f-4a2e-9687-26be7fc8058e",
   "metadata": {},
   "outputs": [],
   "source": [
    "Sigma[:A.shape[1],:A.shape[1]] = diag(s)"
   ]
  },
  {
   "cell_type": "code",
   "execution_count": 40,
   "id": "73b6c7fc-8815-46e9-8028-b4218d589171",
   "metadata": {},
   "outputs": [
    {
     "data": {
      "text/plain": [
       "array([[9.52551809, 0.        ],\n",
       "       [0.        , 0.51430058],\n",
       "       [0.        , 0.        ]])"
      ]
     },
     "execution_count": 40,
     "metadata": {},
     "output_type": "execute_result"
    }
   ],
   "source": [
    "Sigma"
   ]
  },
  {
   "cell_type": "code",
   "execution_count": 41,
   "id": "1123103c-4362-479c-a531-af4c453dcc16",
   "metadata": {},
   "outputs": [
    {
     "data": {
      "text/plain": [
       "array([[1., 2.],\n",
       "       [3., 4.],\n",
       "       [5., 6.]])"
      ]
     },
     "execution_count": 41,
     "metadata": {},
     "output_type": "execute_result"
    }
   ],
   "source": [
    "U.dot(Sigma.dot(V))"
   ]
  },
  {
   "cell_type": "code",
   "execution_count": 42,
   "id": "573c034f-2d80-49b3-af2e-03f52450ba25",
   "metadata": {},
   "outputs": [
    {
     "data": {
      "text/plain": [
       "array([[1, 2, 3],\n",
       "       [4, 5, 6],\n",
       "       [7, 8, 9]])"
      ]
     },
     "execution_count": 42,
     "metadata": {},
     "output_type": "execute_result"
    }
   ],
   "source": [
    "A = array([\n",
    "[1, 2, 3],\n",
    "[4, 5, 6],\n",
    "[7, 8, 9]])\n",
    "\n",
    "A"
   ]
  },
  {
   "cell_type": "code",
   "execution_count": 43,
   "id": "a61222bf-81a4-400d-90c4-8687823b0e61",
   "metadata": {},
   "outputs": [],
   "source": [
    "U, s, V = svd(A)"
   ]
  },
  {
   "cell_type": "code",
   "execution_count": 44,
   "id": "ad73a84a-bd4e-462a-80bd-ca3bfcfa496c",
   "metadata": {},
   "outputs": [
    {
     "data": {
      "text/plain": [
       "array([[-0.21483724,  0.88723069,  0.40824829],\n",
       "       [-0.52058739,  0.24964395, -0.81649658],\n",
       "       [-0.82633754, -0.38794278,  0.40824829]])"
      ]
     },
     "execution_count": 44,
     "metadata": {},
     "output_type": "execute_result"
    }
   ],
   "source": [
    "U"
   ]
  },
  {
   "cell_type": "code",
   "execution_count": 45,
   "id": "da8216ec-eb44-4a69-9a48-d75a7c491f48",
   "metadata": {},
   "outputs": [
    {
     "data": {
      "text/plain": [
       "array([1.68481034e+01, 1.06836951e+00, 3.33475287e-16])"
      ]
     },
     "execution_count": 45,
     "metadata": {},
     "output_type": "execute_result"
    }
   ],
   "source": [
    "s"
   ]
  },
  {
   "cell_type": "code",
   "execution_count": 46,
   "id": "db89d9f9-0c25-4ada-bdb4-95355d4b44e8",
   "metadata": {},
   "outputs": [
    {
     "data": {
      "text/plain": [
       "array([[-0.47967118, -0.57236779, -0.66506441],\n",
       "       [-0.77669099, -0.07568647,  0.62531805],\n",
       "       [-0.40824829,  0.81649658, -0.40824829]])"
      ]
     },
     "execution_count": 46,
     "metadata": {},
     "output_type": "execute_result"
    }
   ],
   "source": [
    "V"
   ]
  },
  {
   "cell_type": "code",
   "execution_count": 48,
   "id": "c8cb2888-75d0-4d57-b109-20985bf0d930",
   "metadata": {},
   "outputs": [
    {
     "data": {
      "text/plain": [
       "array([[1., 2., 3.],\n",
       "       [4., 5., 6.],\n",
       "       [7., 8., 9.]])"
      ]
     },
     "execution_count": 48,
     "metadata": {},
     "output_type": "execute_result"
    }
   ],
   "source": [
    "U.dot(diag(s).dot(V))"
   ]
  },
  {
   "cell_type": "markdown",
   "id": "480ef91c-2e15-43bf-b438-bac5969cde47",
   "metadata": {},
   "source": [
    "### Pseudoinversem\n",
    "\n",
    "The pseudoinverse in the generalization of the matrix inverse for square matrices to rectngular matrices where the number of rows and columns are not equal. It is called **Moore-Penrose Inverse**.\n",
    "\n",
    "The pseudoinverse is denoted by $A^+$. The inverse of rectangular matrix is computed using SVD of $A$ $$A^+ = V . D^+ . U^T$$\n",
    "\n",
    "The pseudoinverse provides one way of solving the linear regression equation. "
   ]
  },
  {
   "cell_type": "code",
   "execution_count": 49,
   "id": "2fbedbe9-9a8e-4c78-a4e3-d098c34418b9",
   "metadata": {},
   "outputs": [
    {
     "name": "stdout",
     "output_type": "stream",
     "text": [
      "[[0.1 0.2]\n",
      " [0.3 0.4]\n",
      " [0.5 0.6]\n",
      " [0.7 0.8]]\n"
     ]
    }
   ],
   "source": [
    "# define matrix\n",
    "A = array([\n",
    "[0.1, 0.2],\n",
    "[0.3, 0.4],\n",
    "[0.5, 0.6],\n",
    "[0.7, 0.8]])\n",
    "print(A)"
   ]
  },
  {
   "cell_type": "code",
   "execution_count": 51,
   "id": "b67a13b1-df21-49e1-b5f6-94e5a4fdd2f4",
   "metadata": {},
   "outputs": [
    {
     "data": {
      "text/plain": [
       "array([[-1.00000000e+01, -5.00000000e+00,  9.07607323e-15,\n",
       "         5.00000000e+00],\n",
       "       [ 8.50000000e+00,  4.50000000e+00,  5.00000000e-01,\n",
       "        -3.50000000e+00]])"
      ]
     },
     "execution_count": 51,
     "metadata": {},
     "output_type": "execute_result"
    }
   ],
   "source": [
    "np.linalg.pinv(A)"
   ]
  },
  {
   "cell_type": "code",
   "execution_count": 52,
   "id": "3fec1ff8-86c9-4bcb-8e77-10525a6189a1",
   "metadata": {},
   "outputs": [
    {
     "data": {
      "text/plain": [
       "array([[0.1, 0.2],\n",
       "       [0.3, 0.4],\n",
       "       [0.5, 0.6],\n",
       "       [0.7, 0.8]])"
      ]
     },
     "execution_count": 52,
     "metadata": {},
     "output_type": "execute_result"
    }
   ],
   "source": [
    "A"
   ]
  },
  {
   "cell_type": "code",
   "execution_count": 53,
   "id": "cfc4aeaf-6b68-47a9-84c3-4bd2b84033c0",
   "metadata": {},
   "outputs": [],
   "source": [
    "U, s, Y = svd(A)"
   ]
  },
  {
   "cell_type": "code",
   "execution_count": 54,
   "id": "04f659b1-9897-4618-8ce2-ccfc7ee35d30",
   "metadata": {},
   "outputs": [
    {
     "data": {
      "text/plain": [
       "array([ 0.70081527, 15.95333376])"
      ]
     },
     "execution_count": 54,
     "metadata": {},
     "output_type": "execute_result"
    }
   ],
   "source": [
    "# reciprocals of s \n",
    "\n",
    "d = 1.0 / s\n",
    "d"
   ]
  },
  {
   "cell_type": "code",
   "execution_count": 56,
   "id": "0fa29041-7371-44e9-a335-577fb1d4aaa4",
   "metadata": {},
   "outputs": [
    {
     "data": {
      "text/plain": [
       "array([[0., 0.],\n",
       "       [0., 0.],\n",
       "       [0., 0.],\n",
       "       [0., 0.]])"
      ]
     },
     "execution_count": 56,
     "metadata": {},
     "output_type": "execute_result"
    }
   ],
   "source": [
    "D = zeros(A.shape)\n",
    "D"
   ]
  },
  {
   "cell_type": "code",
   "execution_count": 58,
   "id": "35f8183d-c978-4d94-8455-27714e353a27",
   "metadata": {},
   "outputs": [
    {
     "data": {
      "text/plain": [
       "array([[ 0.70081527,  0.        ],\n",
       "       [ 0.        , 15.95333376],\n",
       "       [ 0.        ,  0.        ],\n",
       "       [ 0.        ,  0.        ]])"
      ]
     },
     "execution_count": 58,
     "metadata": {},
     "output_type": "execute_result"
    }
   ],
   "source": [
    "D[:A.shape[1], :A.shape[1]] = diag(d)\n",
    "D"
   ]
  },
  {
   "cell_type": "code",
   "execution_count": 62,
   "id": "b06fe85b-e523-4fb5-8cba-9951544460d2",
   "metadata": {},
   "outputs": [
    {
     "name": "stdout",
     "output_type": "stream",
     "text": [
      "[[0.1 0.2]\n",
      " [0.3 0.4]\n",
      " [0.5 0.6]\n",
      " [0.7 0.8]]\n",
      "[[-1.00000000e+01 -5.00000000e+00  9.07607323e-15  5.00000000e+00]\n",
      " [ 8.50000000e+00  4.50000000e+00  5.00000000e-01 -3.50000000e+00]]\n"
     ]
    }
   ],
   "source": [
    "print(A)\n",
    "# factorize\n",
    "U, s, V = svd(A)\n",
    "# reciprocals of s\n",
    "d = 1.0 / s\n",
    "# create m x n D matrix\n",
    "D = zeros(A.shape)\n",
    "# populate D with n x n diagonal matrix\n",
    "D[:A.shape[1], :A.shape[1]] = diag(d)\n",
    "# calculate pseudoinverse\n",
    "B = V.T.dot(D.T).dot(U.T)\n",
    "print(B)\n"
   ]
  },
  {
   "cell_type": "markdown",
   "id": "cb446f8b-a886-4674-9cb3-385944672053",
   "metadata": {},
   "source": [
    "### Dimensionality reduction \n",
    "\n",
    "A popular application of SVD is for dimensionality reduction. Data with a large number of features, such as more features (columns) than observations (rows) may be reduced to a smaller subset of features that are most relevant to the prediction problem. The result is a matrix with a lower rank that is said to approximate the original matrix. To do this we can preform an SVD operation on the original data and select the top $k$ largest singular values in $\\sum$. These columns cab be selected from $\\sum$ abd the rows selected from $V^T$. An approximate $B$ of the original vector $A$ can then be reconstructed. \n",
    "\n",
    "$$B = U . \\sum (k) . V^T(k)$$\n",
    "\n",
    "In Natural Language Processing (NLP), this approach can be used on matrices of word occurrences or word frequencies in documents and is called Latent Semantic Analysis or Latent Semantic Indexing.  $$T = U. \\sum_{k}$$\n",
    "\n",
    "Further, this transform can be calculted and applied to the original matrix $A$ as well as other similar matrices. \n",
    "\n",
    "$$T = A . V^T_{k}$$"
   ]
  },
  {
   "cell_type": "code",
   "execution_count": 15,
   "id": "34d2b285-5d1c-4832-aa00-e65412087844",
   "metadata": {},
   "outputs": [
    {
     "name": "stdout",
     "output_type": "stream",
     "text": [
      "[[ 1  2  3  4  5  6  7  8  9 10]\n",
      " [11 12 13 14 15 16 17 18 19 20]\n",
      " [21 22 23 24 25 26 27 28 29 30]]\n"
     ]
    }
   ],
   "source": [
    "# data reduction with svd\n",
    "from numpy import array\n",
    "from numpy import diag\n",
    "from numpy import zeros\n",
    "from scipy.linalg import svd\n",
    "# define matrix\n",
    "A = array([\n",
    "[1,2,3,4,5,6,7,8,9,10],\n",
    "[11,12,13,14,15,16,17,18,19,20],\n",
    "[21,22,23,24,25,26,27,28,29,30]])\n",
    "print(A)\n",
    "# factorize\n",
    "U, s, V = svd(A)"
   ]
  },
  {
   "cell_type": "code",
   "execution_count": 16,
   "id": "d59dea64-92b7-41bc-bbb4-b03bd33c3ce1",
   "metadata": {},
   "outputs": [
    {
     "data": {
      "text/plain": [
       "array([[-0.19101157, -0.89266338,  0.40824829],\n",
       "       [-0.51371859, -0.26348917, -0.81649658],\n",
       "       [-0.8364256 ,  0.36568503,  0.40824829]])"
      ]
     },
     "execution_count": 16,
     "metadata": {},
     "output_type": "execute_result"
    }
   ],
   "source": [
    "U"
   ]
  },
  {
   "cell_type": "code",
   "execution_count": 17,
   "id": "a702d64c-c1aa-44d9-9f03-273e1827ce0b",
   "metadata": {},
   "outputs": [
    {
     "data": {
      "text/plain": [
       "array([9.69657342e+01, 7.25578339e+00, 1.48879510e-15])"
      ]
     },
     "execution_count": 17,
     "metadata": {},
     "output_type": "execute_result"
    }
   ],
   "source": [
    "s"
   ]
  },
  {
   "cell_type": "code",
   "execution_count": 18,
   "id": "3da065e8-47d0-4fb8-903f-830c732108ef",
   "metadata": {},
   "outputs": [
    {
     "data": {
      "text/plain": [
       "array([[-0.24139304, -0.25728686, -0.27318068, -0.2890745 , -0.30496832,\n",
       "        -0.32086214, -0.33675595, -0.35264977, -0.36854359, -0.38443741],\n",
       "       [ 0.53589546,  0.42695236,  0.31800926,  0.20906617,  0.10012307,\n",
       "        -0.00882003, -0.11776313, -0.22670623, -0.33564933, -0.44459242],\n",
       "       [ 0.09975293, -0.01037753,  0.23987452,  0.05273845,  0.0996209 ,\n",
       "        -0.46517509, -0.52300449, -0.23591804,  0.593137  ,  0.14935136],\n",
       "       [-0.259848  , -0.19489762, -0.10988774,  0.9273013 , -0.07153728,\n",
       "        -0.05251768, -0.04829915, -0.05415057, -0.07582496, -0.0603383 ],\n",
       "       [-0.26312174, -0.0585767 , -0.12150761, -0.05740164,  0.9302533 ,\n",
       "        -0.0441965 , -0.05005435, -0.07728074, -0.13808364, -0.12003039],\n",
       "       [-0.34412869, -0.09157816,  0.43274424, -0.05958094, -0.05492318,\n",
       "         0.70339002, -0.33412339, -0.23272698,  0.08693936, -0.10601229],\n",
       "       [-0.3607094 ,  0.01575684,  0.51799467, -0.04727562, -0.05090152,\n",
       "        -0.33292338,  0.61579275, -0.27850803,  0.07385978, -0.15308609],\n",
       "       [-0.33345757,  0.21857007,  0.28415895, -0.02511566, -0.05422893,\n",
       "        -0.22221261, -0.27509879,  0.75032187, -0.10121342, -0.24172391],\n",
       "       [-0.23733137,  0.57140887, -0.45105898,  0.01252895, -0.06910398,\n",
       "         0.11951822,  0.08414965, -0.10361154,  0.46917172, -0.39567153],\n",
       "       [-0.30296011,  0.57190501, -0.00875539,  0.01380706, -0.05685882,\n",
       "        -0.08131326, -0.14406831, -0.23288126, -0.36263916,  0.60376424]])"
      ]
     },
     "execution_count": 18,
     "metadata": {},
     "output_type": "execute_result"
    }
   ],
   "source": [
    "V"
   ]
  },
  {
   "cell_type": "code",
   "execution_count": 19,
   "id": "ff172124-6c31-4307-9b4c-f261ca67911b",
   "metadata": {},
   "outputs": [],
   "source": [
    "# create m x n Sigma matrix\n",
    "Sigma = zeros((A.shape[0], A.shape[1]))\n",
    "# populate Sigma with n x n diagonal matrix\n",
    "Sigma[:A.shape[0], :A.shape[0]] = diag(s)"
   ]
  },
  {
   "cell_type": "code",
   "execution_count": 21,
   "id": "35c995fa-c99e-4fe8-887a-8ad2504bb758",
   "metadata": {},
   "outputs": [
    {
     "data": {
      "text/plain": [
       "array([[9.69657342e+01, 0.00000000e+00, 0.00000000e+00, 0.00000000e+00,\n",
       "        0.00000000e+00, 0.00000000e+00, 0.00000000e+00, 0.00000000e+00,\n",
       "        0.00000000e+00, 0.00000000e+00],\n",
       "       [0.00000000e+00, 7.25578339e+00, 0.00000000e+00, 0.00000000e+00,\n",
       "        0.00000000e+00, 0.00000000e+00, 0.00000000e+00, 0.00000000e+00,\n",
       "        0.00000000e+00, 0.00000000e+00],\n",
       "       [0.00000000e+00, 0.00000000e+00, 1.48879510e-15, 0.00000000e+00,\n",
       "        0.00000000e+00, 0.00000000e+00, 0.00000000e+00, 0.00000000e+00,\n",
       "        0.00000000e+00, 0.00000000e+00]])"
      ]
     },
     "execution_count": 21,
     "metadata": {},
     "output_type": "execute_result"
    }
   ],
   "source": [
    "Sigma"
   ]
  },
  {
   "cell_type": "code",
   "execution_count": 22,
   "id": "5e648d13-1d33-4dac-8476-85ffaf9be66f",
   "metadata": {},
   "outputs": [],
   "source": [
    "# select\n",
    "n_elements = 2\n",
    "Sigma = Sigma[:, :n_elements]"
   ]
  },
  {
   "cell_type": "code",
   "execution_count": 23,
   "id": "2df62cec-2b8b-48f4-a294-ad4293ef0b1f",
   "metadata": {},
   "outputs": [
    {
     "data": {
      "text/plain": [
       "array([[96.96573419,  0.        ],\n",
       "       [ 0.        ,  7.25578339],\n",
       "       [ 0.        ,  0.        ]])"
      ]
     },
     "execution_count": 23,
     "metadata": {},
     "output_type": "execute_result"
    }
   ],
   "source": [
    "Sigma"
   ]
  },
  {
   "cell_type": "code",
   "execution_count": 24,
   "id": "bfb70772-8d78-4061-821d-bd2afd3af2e3",
   "metadata": {},
   "outputs": [
    {
     "data": {
      "text/plain": [
       "array([[-0.24139304, -0.25728686, -0.27318068, -0.2890745 , -0.30496832,\n",
       "        -0.32086214, -0.33675595, -0.35264977, -0.36854359, -0.38443741],\n",
       "       [ 0.53589546,  0.42695236,  0.31800926,  0.20906617,  0.10012307,\n",
       "        -0.00882003, -0.11776313, -0.22670623, -0.33564933, -0.44459242]])"
      ]
     },
     "execution_count": 24,
     "metadata": {},
     "output_type": "execute_result"
    }
   ],
   "source": [
    "V = V[:n_elements, :]\n",
    "V"
   ]
  },
  {
   "cell_type": "code",
   "execution_count": 35,
   "id": "d20de87b-736f-4f7f-8d6b-a1d0aed1709a",
   "metadata": {},
   "outputs": [
    {
     "data": {
      "text/plain": [
       "array([[-0.24139304,  0.53589546],\n",
       "       [-0.25728686,  0.42695236],\n",
       "       [-0.27318068,  0.31800926],\n",
       "       [-0.2890745 ,  0.20906617],\n",
       "       [-0.30496832,  0.10012307],\n",
       "       [-0.32086214, -0.00882003],\n",
       "       [-0.33675595, -0.11776313],\n",
       "       [-0.35264977, -0.22670623],\n",
       "       [-0.36854359, -0.33564933],\n",
       "       [-0.38443741, -0.44459242]])"
      ]
     },
     "execution_count": 35,
     "metadata": {},
     "output_type": "execute_result"
    }
   ],
   "source": [
    "V.T"
   ]
  },
  {
   "cell_type": "code",
   "execution_count": 36,
   "id": "87020d9e-7290-4332-acdf-3c1158251fcc",
   "metadata": {},
   "outputs": [
    {
     "data": {
      "text/plain": [
       "array([[-18.52157747,  -6.47697214],\n",
       "       [-49.81310011,  -1.91182038],\n",
       "       [-81.10462276,   2.65333138]])"
      ]
     },
     "execution_count": 36,
     "metadata": {},
     "output_type": "execute_result"
    }
   ],
   "source": [
    "A.dot(V.T) # this is the T "
   ]
  },
  {
   "cell_type": "code",
   "execution_count": 38,
   "id": "69d3ab1b-64de-4adc-aa2a-16f7c2e49faa",
   "metadata": {},
   "outputs": [
    {
     "data": {
      "text/plain": [
       "array([[ 1,  2,  3,  4,  5,  6,  7,  8,  9, 10],\n",
       "       [11, 12, 13, 14, 15, 16, 17, 18, 19, 20],\n",
       "       [21, 22, 23, 24, 25, 26, 27, 28, 29, 30]])"
      ]
     },
     "execution_count": 38,
     "metadata": {},
     "output_type": "execute_result"
    }
   ],
   "source": [
    "from sklearn.decomposition import TruncatedSVD\n",
    "\n",
    "A"
   ]
  },
  {
   "cell_type": "code",
   "execution_count": 39,
   "id": "ec319adf-9e62-4fbf-a36c-f8370d4eefbf",
   "metadata": {},
   "outputs": [],
   "source": [
    "# Creat transform \n",
    "svd = TruncatedSVD(n_components = 2)"
   ]
  },
  {
   "cell_type": "code",
   "execution_count": 41,
   "id": "575dc235-89e5-461c-8fdb-417711853cfa",
   "metadata": {},
   "outputs": [
    {
     "data": {
      "text/plain": [
       "TruncatedSVD()"
      ]
     },
     "execution_count": 41,
     "metadata": {},
     "output_type": "execute_result"
    }
   ],
   "source": [
    "svd"
   ]
  },
  {
   "cell_type": "code",
   "execution_count": 42,
   "id": "55ea46f5-545d-4e50-860f-68144df970c3",
   "metadata": {},
   "outputs": [
    {
     "data": {
      "text/plain": [
       "TruncatedSVD()"
      ]
     },
     "execution_count": 42,
     "metadata": {},
     "output_type": "execute_result"
    }
   ],
   "source": [
    "# fit transform \n",
    "svd.fit(A)"
   ]
  },
  {
   "cell_type": "code",
   "execution_count": 44,
   "id": "cb73690d-21c4-43f2-8849-3e4752898eca",
   "metadata": {},
   "outputs": [
    {
     "data": {
      "text/plain": [
       "array([[18.52157747,  6.47697214],\n",
       "       [49.81310011,  1.91182038],\n",
       "       [81.10462276, -2.65333138]])"
      ]
     },
     "execution_count": 44,
     "metadata": {},
     "output_type": "execute_result"
    }
   ],
   "source": [
    "# apply transform \n",
    "results = svd.transform(A)\n",
    "results "
   ]
  },
  {
   "cell_type": "markdown",
   "id": "108c4231-9b40-452e-9e40-66313764edad",
   "metadata": {},
   "source": [
    "## Chapter 17 Introduction to Multivariate Statistics "
   ]
  },
  {
   "cell_type": "markdown",
   "id": "ead911de-caf8-4908-bdd2-bdb7706c891d",
   "metadata": {},
   "source": [
    "### Expected Value and Mean"
   ]
  },
  {
   "cell_type": "markdown",
   "id": "97d977eb-a447-455b-9b2c-fc5a336aac13",
   "metadata": {},
   "source": [
    "In probability tge average value of some random variable $X$ is called the *the expected value* or *the expectation*. The epected value uses the notation $E$ with quare brackets around the name of the variable: $$E[X]$$ \n",
    "\n",
    "It is calculated as the probability weighted sum of values that can be drawn. $$E[X] = \\sum x_{1} x p_{1}, x_{2} x p_{2}, ..., x_{n} x p{n}$$\n",
    "\n",
    "the mean in statistics: $$\\mu = \\frac(1, n) x \\sum x_{1},x_{2},x_{3},..., x_{n},$$ \n",
    "\n",
    "Or, written more compactly: $$\\mu = P(x) x \\sum x$$"
   ]
  },
  {
   "cell_type": "code",
   "execution_count": 3,
   "id": "11a93662-d2ee-45b9-96c3-1fa303960af3",
   "metadata": {},
   "outputs": [
    {
     "data": {
      "text/plain": [
       "3.5"
      ]
     },
     "execution_count": 3,
     "metadata": {},
     "output_type": "execute_result"
    }
   ],
   "source": [
    "(1/6) * sum([i for i in range(1, 7)])"
   ]
  },
  {
   "cell_type": "code",
   "execution_count": 4,
   "id": "486751e4-9790-40fc-8d2a-9a9b2aa5d54c",
   "metadata": {},
   "outputs": [
    {
     "name": "stdout",
     "output_type": "stream",
     "text": [
      "[1 2 3 4 5 6]\n",
      "3.5\n"
     ]
    }
   ],
   "source": [
    "# vector mean\n",
    "from numpy import array\n",
    "from numpy import mean\n",
    "# define vector\n",
    "v = array([1,2,3,4,5,6])\n",
    "print(v)\n",
    "# calculate mean\n",
    "result = mean(v)\n",
    "print(result)\n"
   ]
  },
  {
   "cell_type": "code",
   "execution_count": 7,
   "id": "0f85dd19-baa9-4679-a8fc-a9b7332217b9",
   "metadata": {},
   "outputs": [
    {
     "name": "stdout",
     "output_type": "stream",
     "text": [
      "[[1 2 3 4 5 6]\n",
      " [1 2 3 4 5 6]]\n",
      "\n",
      "[1. 2. 3. 4. 5. 6.]\n",
      "\n",
      "[3.5 3.5]\n"
     ]
    }
   ],
   "source": [
    "# matrix means\n",
    "from numpy import array\n",
    "from numpy import mean\n",
    "# define matrix\n",
    "M = array([\n",
    "[1,2,3,4,5,6],\n",
    "[1,2,3,4,5,6]])\n",
    "print(M)\n",
    "print()\n",
    "# column means\n",
    "col_mean = mean(M, axis=0)\n",
    "print(col_mean)\n",
    "print()\n",
    "# row means\n",
    "row_mean = mean(M, axis=1)\n",
    "print(row_mean)\n"
   ]
  },
  {
   "cell_type": "markdown",
   "id": "dbb09c49-4ef1-49bf-9fe5-5fd54ae69fb9",
   "metadata": {},
   "source": [
    "### Variance and Standard Deviation"
   ]
  },
  {
   "cell_type": "markdown",
   "id": "2b00f849-7382-490a-b1e5-b0f2e5952096",
   "metadata": {},
   "source": [
    "In probability, the variance of some random variable $X$ is a measure of how much values in the distribution vary on average with the respect to the mean. The variance is denoted as the function $Var()$ on the variable. $$Var[X]$$\n",
    "\n",
    "The variance is computed as the average squared difference of each value in the distrubution from the expected value. Or the excted squared difference from the expected value. $$Var[X] = E[(X - E[X])^2]$$"
   ]
  },
  {
   "cell_type": "code",
   "execution_count": 8,
   "id": "a48d8539-a6ee-4069-9f20-f2bda00dd311",
   "metadata": {},
   "outputs": [
    {
     "name": "stdout",
     "output_type": "stream",
     "text": [
      "[1 2 3 4 5 6]\n",
      "3.5\n"
     ]
    }
   ],
   "source": [
    "# vector variance\n",
    "from numpy import array\n",
    "from numpy import var\n",
    "# define vector\n",
    "v = array([1,2,3,4,5,6])\n",
    "print(v)\n",
    "# calculate variance\n",
    "result = var(v, ddof=1)\n",
    "print(result)\n"
   ]
  },
  {
   "cell_type": "code",
   "execution_count": 9,
   "id": "db8fc3be-3ed1-490c-b668-42f0daa974a7",
   "metadata": {},
   "outputs": [
    {
     "data": {
      "text/plain": [
       "2.9166666666666665"
      ]
     },
     "execution_count": 9,
     "metadata": {},
     "output_type": "execute_result"
    }
   ],
   "source": [
    "var(v)"
   ]
  },
  {
   "cell_type": "code",
   "execution_count": 14,
   "id": "174b671c-4793-4298-9fc9-fc6e8f66b013",
   "metadata": {},
   "outputs": [
    {
     "data": {
      "text/plain": [
       "array([0., 0., 0., 0., 0., 0.])"
      ]
     },
     "execution_count": 14,
     "metadata": {},
     "output_type": "execute_result"
    }
   ],
   "source": [
    "np.var(M, axis = 0, ddof = 1)"
   ]
  },
  {
   "cell_type": "code",
   "execution_count": 13,
   "id": "ab08139f-25f3-4ef8-9ec3-accb8cf44cc2",
   "metadata": {},
   "outputs": [
    {
     "data": {
      "text/plain": [
       "array([3.5, 3.5])"
      ]
     },
     "execution_count": 13,
     "metadata": {},
     "output_type": "execute_result"
    }
   ],
   "source": [
    "np.var(M, axis = 1, ddof = 1)"
   ]
  },
  {
   "cell_type": "markdown",
   "id": "f1e16bb6-a950-4739-987e-c6de6add8fd2",
   "metadata": {},
   "source": [
    "**The standard deviation** is computeds as the square root of the variance and its denoted as lowercase $s$. $$s = \\sqrt \\sigma^2$$"
   ]
  },
  {
   "cell_type": "code",
   "execution_count": 18,
   "id": "ba6514e5-fd77-4e56-a797-693b8aba1512",
   "metadata": {},
   "outputs": [
    {
     "data": {
      "text/plain": [
       "array([1.87082869, 1.87082869])"
      ]
     },
     "execution_count": 18,
     "metadata": {},
     "output_type": "execute_result"
    }
   ],
   "source": [
    "np.std(M, axis = 1, ddof = 1)"
   ]
  },
  {
   "cell_type": "markdown",
   "id": "31d228b0-a4e6-4555-bf1d-c5669eec6be5",
   "metadata": {},
   "source": [
    "### Coveriance and Correlation"
   ]
  },
  {
   "cell_type": "code",
   "execution_count": 19,
   "id": "cfe487b1-25b6-4158-8e06-88954f8a1a57",
   "metadata": {},
   "outputs": [
    {
     "name": "stdout",
     "output_type": "stream",
     "text": [
      "[1 2 3 4 5 6 7 8 9]\n",
      "[9 8 7 6 5 4 3 2 1]\n",
      "-7.5\n"
     ]
    }
   ],
   "source": [
    "# vector covariance\n",
    "from numpy import array\n",
    "from numpy import cov\n",
    "# define first vector\n",
    "x = array([1,2,3,4,5,6,7,8,9])\n",
    "print(x)\n",
    "# define second covariance\n",
    "y = array([9,8,7,6,5,4,3,2,1])\n",
    "print(y)\n",
    "# calculate covariance\n",
    "Sigma = cov(x,y)[0,1]\n",
    "print(Sigma)\n"
   ]
  },
  {
   "cell_type": "code",
   "execution_count": 22,
   "id": "d313b61e-975f-4a80-a353-f7a13a35f8f6",
   "metadata": {},
   "outputs": [
    {
     "name": "stdout",
     "output_type": "stream",
     "text": [
      "[1 2 3 4 5 6 7 8 9]\n",
      "[9 8 7 6 5 4 3 2 1]\n",
      "-1.0\n"
     ]
    }
   ],
   "source": [
    "# vector correlation\n",
    "from numpy import array\n",
    "from numpy import corrcoef\n",
    "# define first vector\n",
    "x = array([1,2,3,4,5,6,7,8,9])\n",
    "print(x)\n",
    "# define second vector\n",
    "y = array([9,8,7,6,5,4,3,2,1])\n",
    "print(y)\n",
    "# calculate correlation\n",
    "corr = corrcoef(x,y)[0,1]\n",
    "print(corr)"
   ]
  },
  {
   "cell_type": "markdown",
   "id": "10fb6d77-233a-4de0-b981-15e753471ccb",
   "metadata": {},
   "source": [
    "### Covariance Matrix"
   ]
  },
  {
   "cell_type": "markdown",
   "id": "4d7a9997-ef7a-4810-9a0f-c5487a58a1b9",
   "metadata": {},
   "source": [
    "The covariance matrix is a squared symmetric matrix that describes the covariance between two or more variables. The diagonal of the covariance matrix are the variances of each of the variables, as such it is called often the variance-covariance matrix. A covariance matrix is a generalization of the covariance of two variables and captures the way in which all variables in the dataset may change togother. Is denoted by the uppercase Grrek letter Sigma $\\Sigma$ \n",
    "\n",
    "where: $$ \\Sigma = E[(X - E[X] * (Y - E[Y]]$$ where $$\\Sigma_{i,j} = cov(Xi, Xj)$$"
   ]
  },
  {
   "cell_type": "code",
   "execution_count": 4,
   "id": "f976290b-f49c-4e61-a2f2-b43fd5a0b89c",
   "metadata": {},
   "outputs": [
    {
     "name": "stdout",
     "output_type": "stream",
     "text": [
      "[[ 1  5  8]\n",
      " [ 3  5 11]\n",
      " [ 2  4  9]\n",
      " [ 3  6 10]\n",
      " [ 1  5 10]]\n",
      "\n",
      "[[1.   0.25 0.75]\n",
      " [0.25 0.5  0.25]\n",
      " [0.75 0.25 1.3 ]]\n"
     ]
    }
   ],
   "source": [
    "import numpy as np \n",
    "X = np.array([\n",
    "[1, 5, 8],\n",
    "[3, 5, 11],\n",
    "[2, 4, 9],\n",
    "[3, 6, 10],\n",
    "[1, 5, 10]])\n",
    "print(X)\n",
    "print()\n",
    "# calculate covariance matrix\n",
    "Sigma = np.cov(X.T)\n",
    "print(Sigma)"
   ]
  },
  {
   "cell_type": "code",
   "execution_count": 5,
   "id": "5553f23f-aac1-4b5d-a7bd-b713a2f51497",
   "metadata": {},
   "outputs": [
    {
     "data": {
      "text/plain": [
       "51"
      ]
     },
     "execution_count": 5,
     "metadata": {},
     "output_type": "execute_result"
    }
   ],
   "source": [
    " 5+15+8+18+5"
   ]
  },
  {
   "cell_type": "code",
   "execution_count": 21,
   "id": "11f4e336-5864-4b39-9cae-63e3c982c1aa",
   "metadata": {},
   "outputs": [
    {
     "data": {
      "text/plain": [
       "2.0"
      ]
     },
     "execution_count": 21,
     "metadata": {},
     "output_type": "execute_result"
    }
   ],
   "source": [
    "np.sum(X[:,0])/5"
   ]
  },
  {
   "cell_type": "code",
   "execution_count": 29,
   "id": "770c5743-8338-4290-b9f2-469d58e34983",
   "metadata": {},
   "outputs": [
    {
     "data": {
      "text/plain": [
       "4.8"
      ]
     },
     "execution_count": 29,
     "metadata": {},
     "output_type": "execute_result"
    }
   ],
   "source": [
    "sum(X[:,0] * X[:,0])/5"
   ]
  },
  {
   "cell_type": "code",
   "execution_count": 31,
   "id": "ee14cf3f-c8d5-43b0-9b1a-e7027f79b1cf",
   "metadata": {},
   "outputs": [
    {
     "name": "stdout",
     "output_type": "stream",
     "text": [
      "[[ 1  5  8]\n",
      " [ 3  5 11]\n",
      " [ 2  4  9]\n",
      " [ 3  6 10]\n",
      " [ 1  5 10]]\n",
      "[[1.   0.25 0.75]\n",
      " [0.25 0.5  0.25]\n",
      " [0.75 0.25 1.3 ]]\n"
     ]
    }
   ],
   "source": [
    "# covariance matrix\n",
    "from numpy import array\n",
    "from numpy import cov\n",
    "# define matrix of observations\n",
    "X = array([\n",
    "[1, 5, 8],\n",
    "[3, 5, 11],\n",
    "[2, 4, 9],\n",
    "[3, 6, 10],\n",
    "[1, 5, 10]])\n",
    "print(X)\n",
    "# calculate covariance matrix\n",
    "Sigma = cov(X.T)\n",
    "print(Sigma)"
   ]
  },
  {
   "cell_type": "code",
   "execution_count": 32,
   "id": "8085d1b5-604b-449f-ab96-ae61177bc6dc",
   "metadata": {},
   "outputs": [
    {
     "data": {
      "text/plain": [
       "4.8"
      ]
     },
     "execution_count": 32,
     "metadata": {},
     "output_type": "execute_result"
    }
   ],
   "source": [
    "np.sum(np.power(X[:,0], 2)) / 5"
   ]
  },
  {
   "cell_type": "code",
   "execution_count": 34,
   "id": "298e1260-f46d-4ef4-8bfd-1f643f2fb0e0",
   "metadata": {},
   "outputs": [
    {
     "data": {
      "text/plain": [
       "array([[ 1,  3, -1],\n",
       "       [ 1,  0, -1]])"
      ]
     },
     "execution_count": 34,
     "metadata": {},
     "output_type": "execute_result"
    }
   ],
   "source": [
    "m = np.array([[1, 3, -1],\n",
    "            [1, 0, -1]])\n",
    "m"
   ]
  },
  {
   "cell_type": "code",
   "execution_count": 35,
   "id": "13e6f9ee-94f1-4496-b214-824d6f156eec",
   "metadata": {},
   "outputs": [
    {
     "data": {
      "text/plain": [
       "array([[ 1,  1],\n",
       "       [ 3,  0],\n",
       "       [-1, -1]])"
      ]
     },
     "execution_count": 35,
     "metadata": {},
     "output_type": "execute_result"
    }
   ],
   "source": [
    "A = m.T\n",
    "A"
   ]
  },
  {
   "cell_type": "code",
   "execution_count": 41,
   "id": "4f89764d-5c2c-4e68-9b24-33d71a63c67d",
   "metadata": {},
   "outputs": [
    {
     "data": {
      "text/plain": [
       "array([[2.66666667, 0.66666667],\n",
       "       [0.66666667, 0.66666667]])"
      ]
     },
     "execution_count": 41,
     "metadata": {},
     "output_type": "execute_result"
    }
   ],
   "source": [
    "np.cov(m, ddof=0)"
   ]
  },
  {
   "cell_type": "code",
   "execution_count": 46,
   "id": "938d2eb7-750d-46d8-833d-787bbf4f15e9",
   "metadata": {},
   "outputs": [
    {
     "name": "stdout",
     "output_type": "stream",
     "text": [
      "[[ 1  5  8]\n",
      " [ 3  5 11]\n",
      " [ 2  4  9]\n",
      " [ 3  6 10]\n",
      " [ 1  5 10]]\n",
      "\n",
      "[[0.8  0.2  0.6 ]\n",
      " [0.2  0.4  0.2 ]\n",
      " [0.6  0.2  1.04]]\n"
     ]
    }
   ],
   "source": [
    "X = array([\n",
    "[1, 5, 8],\n",
    "[3, 5, 11],\n",
    "[2, 4, 9],\n",
    "[3, 6, 10],\n",
    "[1, 5, 10]])\n",
    "print(X)\n",
    "print()\n",
    "# calculate covariance matrix\n",
    "Sigma = cov(X.T, ddof =0)\n",
    "print(Sigma)\n"
   ]
  },
  {
   "cell_type": "code",
   "execution_count": 53,
   "id": "61af2f7f-d911-4820-bf15-a888b5e6475c",
   "metadata": {},
   "outputs": [
    {
     "data": {
      "text/plain": [
       "25.4"
      ]
     },
     "execution_count": 53,
     "metadata": {},
     "output_type": "execute_result"
    }
   ],
   "source": [
    "sum(X[:,1] * X[:,1])/5"
   ]
  },
  {
   "cell_type": "markdown",
   "id": "2e02cfab-757a-4204-9950-3e6807364a50",
   "metadata": {},
   "source": [
    "## Chapter 10 Principal Component Analysis"
   ]
  },
  {
   "cell_type": "markdown",
   "id": "41d466b3-738d-41db-add5-bbb45949a778",
   "metadata": {},
   "source": [
    "PCA is an important machine learning algorithm for dimensionality reduction. It uses simple multivariate analysis to calculate a projection of the original data into the same number or fewer dimensions. \n",
    "\n",
    "It can be tought of as a projection method, where data with m-columns (feartures) is projected into a subspace with m or fewer columns, whilst retaining the essence of the original data. "
   ]
  },
  {
   "cell_type": "markdown",
   "id": "353f721b-d391-4a50-af07-3d7230dd669f",
   "metadata": {},
   "source": [
    "### Steps of PCA"
   ]
  },
  {
   "cell_type": "code",
   "execution_count": 2,
   "id": "014cbb5f-11ec-4cc8-ba48-6ce1c77eebb9",
   "metadata": {},
   "outputs": [
    {
     "data": {
      "text/plain": [
       "array([[1, 2],\n",
       "       [3, 4],\n",
       "       [5, 6]])"
      ]
     },
     "execution_count": 2,
     "metadata": {},
     "output_type": "execute_result"
    }
   ],
   "source": [
    "# we have this matrix \n",
    "\n",
    "A = np.array([[1, 2], [3,4], [5,6]])\n",
    "A"
   ]
  },
  {
   "cell_type": "markdown",
   "id": "517e2575-7926-4b19-8a08-738ae3068bf8",
   "metadata": {},
   "source": [
    "let's conmpute $$B = PCA(A)$$"
   ]
  },
  {
   "cell_type": "code",
   "execution_count": 3,
   "id": "88637c30-1182-495f-89d8-63738866eeb4",
   "metadata": {},
   "outputs": [
    {
     "data": {
      "text/plain": [
       "3.5"
      ]
     },
     "execution_count": 3,
     "metadata": {},
     "output_type": "execute_result"
    }
   ],
   "source": [
    "# the first step is to compute the mean of A\n",
    "M = np.mean(A)\n",
    "M"
   ]
  },
  {
   "cell_type": "code",
   "execution_count": 4,
   "id": "c210959f-6d0c-4e5a-b4fc-2b286c593ad3",
   "metadata": {},
   "outputs": [
    {
     "data": {
      "text/plain": [
       "array([[-2.5, -1.5],\n",
       "       [-0.5,  0.5],\n",
       "       [ 1.5,  2.5]])"
      ]
     },
     "execution_count": 4,
     "metadata": {},
     "output_type": "execute_result"
    }
   ],
   "source": [
    "# second steps is to center the matrix A by substracting the mean column value \n",
    "C = A - M\n",
    "C"
   ]
  },
  {
   "cell_type": "markdown",
   "id": "99fe9492-ab30-4e26-893e-c49b0b9989ce",
   "metadata": {},
   "source": [
    "The next step is to compute the covariance matrix of the centred matrix C. Correlation is a normalized measure of the amout and direction (positive/negative) that two columns change togother. "
   ]
  },
  {
   "cell_type": "code",
   "execution_count": 6,
   "id": "9b9e3227-9930-450d-b9f1-1766692d5231",
   "metadata": {},
   "outputs": [
    {
     "data": {
      "text/plain": [
       "array([[4., 4.],\n",
       "       [4., 4.]])"
      ]
     },
     "execution_count": 6,
     "metadata": {},
     "output_type": "execute_result"
    }
   ],
   "source": [
    "# compute the coviariance of the matrix C\n",
    "V = np.cov(C.T)\n",
    "V"
   ]
  },
  {
   "cell_type": "markdown",
   "id": "7c8f5caf-eebc-4549-9d59-15dd9bd3964d",
   "metadata": {},
   "source": [
    "Finelly, we compute the eigendecomposition of the covariance matrix V. This results in a list of eigenvalues and a list of eigenvectors."
   ]
  },
  {
   "cell_type": "code",
   "execution_count": 9,
   "id": "9d14c6ee-dfcf-44a2-8152-575d94afd2f9",
   "metadata": {},
   "outputs": [
    {
     "name": "stdout",
     "output_type": "stream",
     "text": [
      "[8. 0.]\n",
      "\n",
      "[[ 0.70710678 -0.70710678]\n",
      " [ 0.70710678  0.70710678]]\n"
     ]
    }
   ],
   "source": [
    "values, vectors = np.linalg.eig(V)\n",
    "print(values)\n",
    "print()\n",
    "print(vectors)"
   ]
  },
  {
   "cell_type": "markdown",
   "id": "dc9bb3e5-7266-4d2a-9de1-bf872ea2f442",
   "metadata": {},
   "source": [
    "The eigenvectors represent the direction or components for the reduced subspace of B, whereas the eigenvalues represent the magnitude for the directions.If an eigenvalue is close to zero they represent components or axes of B that may be discared. A total of m o less components must be selected to comprise the chosen subspace. Ideally, we would select k eigenvectors, called pricnipal coimponents, that have the k largest eigenvalues. $$B = select(values, vectors)$$"
   ]
  },
  {
   "cell_type": "markdown",
   "id": "6f2da682-8ca8-4dd2-aad9-4f6ccedd7b51",
   "metadata": {},
   "source": [
    "Other matrix decomposition methods can be used such as SVD. As such, generally the values are reffered to as signular values and the vectors of the subspace are reffered to as pricipal components. Once chosen, data can be projected into the subspace via matrix multiplication. \n",
    "$$P = B^T .A$$\n",
    "\n",
    "Where A is the original matrix data that we wish to project. $B^T$ is the tranpose of the chosen principal components and P is the projection of  A. This is called the **covariance method for calculating the PCA**, although there are alternative ways to calculate it. "
   ]
  },
  {
   "cell_type": "code",
   "execution_count": 16,
   "id": "dd665fd1-691b-4b17-900d-b62fb77307ef",
   "metadata": {},
   "outputs": [
    {
     "data": {
      "text/plain": [
       "array([[-2.82842712,  0.        ,  2.82842712],\n",
       "       [ 0.70710678,  0.70710678,  0.70710678]])"
      ]
     },
     "execution_count": 16,
     "metadata": {},
     "output_type": "execute_result"
    }
   ],
   "source": [
    "# project data \n",
    "P = vectors.T.dot(C.T)\n",
    "P"
   ]
  },
  {
   "cell_type": "markdown",
   "id": "958b7a33-02ee-48d4-a949-484e8b686424",
   "metadata": {},
   "source": [
    "#### example"
   ]
  },
  {
   "cell_type": "code",
   "execution_count": 17,
   "id": "328a380d-3b52-4e13-91e6-a6ed36c76038",
   "metadata": {},
   "outputs": [
    {
     "name": "stdout",
     "output_type": "stream",
     "text": [
      "[[1 2]\n",
      " [3 4]\n",
      " [5 6]]\n",
      "[[ 0.70710678 -0.70710678]\n",
      " [ 0.70710678  0.70710678]]\n",
      "[8. 0.]\n",
      "[[-2.82842712  0.        ]\n",
      " [ 0.          0.        ]\n",
      " [ 2.82842712  0.        ]]\n"
     ]
    }
   ],
   "source": [
    "# principal component analysis\n",
    "from numpy import array\n",
    "from numpy import mean\n",
    "from numpy import cov\n",
    "from numpy.linalg import eig\n",
    "# define matrix\n",
    "A = array([\n",
    "[1, 2],\n",
    "[3, 4],\n",
    "[5, 6]])\n",
    "print(A)\n",
    "# column means\n",
    "M = mean(A.T, axis=1)\n",
    "# center columns by subtracting column means\n",
    "C = A - M\n",
    "# calculate covariance matrix of centered matrix\n",
    "V = cov(C.T)\n",
    "# factorize covariance matrix\n",
    "values, vectors = eig(V)\n",
    "print(vectors)\n",
    "print(values)\n",
    "# project data\n",
    "P = vectors.T.dot(C.T)\n",
    "print(P.T)"
   ]
  },
  {
   "cell_type": "markdown",
   "id": "5e1f2501-7e41-4f5b-8bd3-c6252c53e0a6",
   "metadata": {},
   "source": [
    "Interestingly, we can see that only the first eigenvector is required, suggesting that we could project our 3x2 matric onto a 3x1 matrix with littel loss. "
   ]
  },
  {
   "cell_type": "markdown",
   "id": "12dfe658-8c74-474e-ab1e-7274150818fe",
   "metadata": {},
   "source": [
    "#### PCA with scikit-learn "
   ]
  },
  {
   "cell_type": "code",
   "execution_count": 32,
   "id": "a5e2d6b0-68cc-4d99-9894-09bd8059c287",
   "metadata": {},
   "outputs": [
    {
     "name": "stdout",
     "output_type": "stream",
     "text": [
      "[[1 2]\n",
      " [3 4]\n",
      " [5 6]]\n",
      "\n",
      "\n",
      "[[ 0.70710678  0.70710678]\n",
      " [ 0.70710678 -0.70710678]]\n",
      "\n",
      "[8.00000000e+00 2.25080839e-33]\n",
      "\n",
      "[[-2.82842712e+00  2.22044605e-16]\n",
      " [ 0.00000000e+00  0.00000000e+00]\n",
      " [ 2.82842712e+00 -2.22044605e-16]]\n"
     ]
    }
   ],
   "source": [
    "# principal component analysis with scikit-learn\n",
    "from numpy import array\n",
    "from sklearn.decomposition import PCA\n",
    "# define matrix\n",
    "A = array([\n",
    "[1, 2],\n",
    "[3, 4],\n",
    "[5, 6]])\n",
    "print(A)\n",
    "print()\n",
    "# create the transform\n",
    "pca = PCA(2)\n",
    "print()\n",
    "# fit transform\n",
    "pca.fit(A)\n",
    "# access values and vectors\n",
    "print(pca.components_)\n",
    "print()\n",
    "print(pca.explained_variance_)\n",
    "print()\n",
    "# transform data\n",
    "B = pca.transform(A)\n",
    "print(B)"
   ]
  },
  {
   "cell_type": "code",
   "execution_count": 34,
   "id": "0d1a14ac-afb8-450d-a7c3-ff32c752f8d5",
   "metadata": {},
   "outputs": [],
   "source": [
    "import matplotlib.pyplot as plt \n",
    "%matplotlib inline"
   ]
  },
  {
   "cell_type": "code",
   "execution_count": 37,
   "id": "9c5c658a-582c-4aca-9658-71de55500362",
   "metadata": {},
   "outputs": [
    {
     "data": {
      "image/png": "[encoded data removed]",
      "text/plain": [
       "<Figure size 432x288 with 1 Axes>"
      ]
     },
     "metadata": {
      "needs_background": "light"
     },
     "output_type": "display_data"
    }
   ],
   "source": [
    "plt.scatter(B[:,0], B[:,1]);"
   ]
  }
 ],
 "metadata": {
  "kernelspec": {
   "display_name": "Python 3",
   "language": "python",
   "name": "python3"
  },
  "language_info": {
   "codemirror_mode": {
    "name": "ipython",
    "version": 3
   },
   "file_extension": ".py",
   "mimetype": "text/x-python",
   "name": "python",
   "nbconvert_exporter": "python",
   "pygments_lexer": "ipython3",
   "version": "3.9.5"
  }
 },
 "nbformat": 4,
 "nbformat_minor": 5
}
